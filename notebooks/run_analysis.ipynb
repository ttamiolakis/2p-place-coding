{
 "cells": [
  {
   "cell_type": "code",
   "execution_count": 4,
   "metadata": {},
   "outputs": [],
   "source": [
    "import h5py\n",
    "import os"
   ]
  },
  {
   "cell_type": "code",
   "execution_count": 5,
   "metadata": {},
   "outputs": [
    {
     "name": "stdout",
     "output_type": "stream",
     "text": [
      "OPI2342 baseline_d1\n",
      "D:/sd_project_pbox/results/OPI2342/baseline_d1\n",
      "all good with naming the files. continue\n",
      "hello\n",
      "Rounds: [1, 2, 3, 4, 5, 6, 7, 8, 9, 10, 11, 12]\n",
      " Number of rounds: 12\n"
     ]
    },
    {
     "ename": "TypeError",
     "evalue": "'list' object cannot be interpreted as an integer",
     "output_type": "error",
     "traceback": [
      "\u001b[1;31m---------------------------------------------------------------------------\u001b[0m",
      "\u001b[1;31mTypeError\u001b[0m                                 Traceback (most recent call last)",
      "File \u001b[1;32m~\\AppData\\Local\\Temp\\ipykernel_3984\\1283778858.py:14\u001b[0m\n\u001b[0;32m     10\u001b[0m num_units\u001b[38;5;241m=\u001b[39munits_n\n\u001b[0;32m     12\u001b[0m \u001b[38;5;66;03m#making the firing rate map for every cell and every round for both zscore and raw data\u001b[39;00m\n\u001b[1;32m---> 14\u001b[0m firing_rate_maps\u001b[38;5;241m=\u001b[39mmake_firing_rate_maps(fluo_z_score,rounds,num_units,num_bins)\n\u001b[0;32m     15\u001b[0m firing_rate_maps_raw_data\u001b[38;5;241m=\u001b[39mmake_firing_rate_maps(fluo_raw_data,rounds,num_units,num_bins)\n\u001b[0;32m     17\u001b[0m \u001b[38;5;66;03m#calculate the average firing rate map for every cell\u001b[39;00m\n",
      "File \u001b[1;32mc:\\Users\\ttami\\OneDrive\\PhD\\Lab\\Programming\\2-place-coding\\2p-place-coding\\notebooks\\..\\placecode\\spatial_coding_functions.py:46\u001b[0m, in \u001b[0;36mmake_firing_rate_maps\u001b[1;34m(data, rounds, num_units, num_bins)\u001b[0m\n\u001b[0;32m     44\u001b[0m \u001b[38;5;28;01mdef\u001b[39;00m \u001b[38;5;21mmake_firing_rate_maps\u001b[39m(data,rounds, num_units, num_bins):\n\u001b[0;32m     45\u001b[0m     \u001b[38;5;66;03m# Initialize a 3-dimensional array to store firing rate maps for each cell and round\u001b[39;00m\n\u001b[1;32m---> 46\u001b[0m     firing_rate_maps \u001b[38;5;241m=\u001b[39m np\u001b[38;5;241m.\u001b[39mzeros((\u001b[38;5;28mint\u001b[39m(num_units), rounds, num_bins))\n\u001b[0;32m     48\u001b[0m     \u001b[38;5;28;01mfor\u001b[39;00m cell \u001b[38;5;129;01min\u001b[39;00m \u001b[38;5;28mrange\u001b[39m(num_units):        \n\u001b[0;32m     49\u001b[0m         \u001b[38;5;28;01mfor\u001b[39;00m round_num \u001b[38;5;129;01min\u001b[39;00m rounds:\n\u001b[0;32m     50\u001b[0m             \u001b[38;5;66;03m# Filter data for the current round and cell\u001b[39;00m\n",
      "\u001b[1;31mTypeError\u001b[0m: 'list' object cannot be interpreted as an integer"
     ]
    },
    {
     "ename": "TypeError",
     "evalue": "'list' object cannot be interpreted as an integer",
     "output_type": "error",
     "traceback": [
      "\u001b[1;31m---------------------------------------------------------------------------\u001b[0m",
      "\u001b[1;31mTypeError\u001b[0m                                 Traceback (most recent call last)",
      "Cell \u001b[1;32mIn[5], line 18\u001b[0m\n\u001b[0;32m     15\u001b[0m save_folder\u001b[38;5;241m=\u001b[39m\u001b[38;5;124mf\u001b[39m\u001b[38;5;124m\"\u001b[39m\u001b[38;5;124mD:/sd_project_pbox/results/\u001b[39m\u001b[38;5;132;01m{\u001b[39;00mmouse_ID\u001b[38;5;132;01m}\u001b[39;00m\u001b[38;5;124m/\u001b[39m\u001b[38;5;132;01m{\u001b[39;00mcondition\u001b[38;5;132;01m}\u001b[39;00m\u001b[38;5;124m\"\u001b[39m\n\u001b[0;32m     16\u001b[0m \u001b[38;5;28mprint\u001b[39m(save_folder)\n\u001b[1;32m---> 18\u001b[0m get_ipython()\u001b[38;5;241m.\u001b[39mrun_line_magic(\u001b[38;5;124m'\u001b[39m\u001b[38;5;124mrun\u001b[39m\u001b[38;5;124m'\u001b[39m, \u001b[38;5;124m'\u001b[39m\u001b[38;5;124mspatial_coding_test.ipynb\u001b[39m\u001b[38;5;124m'\u001b[39m)\n",
      "File \u001b[1;32mc:\\Users\\ttami\\anaconda3\\Lib\\site-packages\\IPython\\core\\interactiveshell.py:2456\u001b[0m, in \u001b[0;36mInteractiveShell.run_line_magic\u001b[1;34m(self, magic_name, line, _stack_depth)\u001b[0m\n\u001b[0;32m   2454\u001b[0m     kwargs[\u001b[38;5;124m'\u001b[39m\u001b[38;5;124mlocal_ns\u001b[39m\u001b[38;5;124m'\u001b[39m] \u001b[38;5;241m=\u001b[39m \u001b[38;5;28mself\u001b[39m\u001b[38;5;241m.\u001b[39mget_local_scope(stack_depth)\n\u001b[0;32m   2455\u001b[0m \u001b[38;5;28;01mwith\u001b[39;00m \u001b[38;5;28mself\u001b[39m\u001b[38;5;241m.\u001b[39mbuiltin_trap:\n\u001b[1;32m-> 2456\u001b[0m     result \u001b[38;5;241m=\u001b[39m fn(\u001b[38;5;241m*\u001b[39margs, \u001b[38;5;241m*\u001b[39m\u001b[38;5;241m*\u001b[39mkwargs)\n\u001b[0;32m   2458\u001b[0m \u001b[38;5;66;03m# The code below prevents the output from being displayed\u001b[39;00m\n\u001b[0;32m   2459\u001b[0m \u001b[38;5;66;03m# when using magics with decorator @output_can_be_silenced\u001b[39;00m\n\u001b[0;32m   2460\u001b[0m \u001b[38;5;66;03m# when the last Python token in the expression is a ';'.\u001b[39;00m\n\u001b[0;32m   2461\u001b[0m \u001b[38;5;28;01mif\u001b[39;00m \u001b[38;5;28mgetattr\u001b[39m(fn, magic\u001b[38;5;241m.\u001b[39mMAGIC_OUTPUT_CAN_BE_SILENCED, \u001b[38;5;28;01mFalse\u001b[39;00m):\n",
      "File \u001b[1;32mc:\\Users\\ttami\\anaconda3\\Lib\\site-packages\\IPython\\core\\magics\\execution.py:737\u001b[0m, in \u001b[0;36mExecutionMagics.run\u001b[1;34m(self, parameter_s, runner, file_finder)\u001b[0m\n\u001b[0;32m    735\u001b[0m     \u001b[38;5;28;01mwith\u001b[39;00m preserve_keys(\u001b[38;5;28mself\u001b[39m\u001b[38;5;241m.\u001b[39mshell\u001b[38;5;241m.\u001b[39muser_ns, \u001b[38;5;124m'\u001b[39m\u001b[38;5;124m__file__\u001b[39m\u001b[38;5;124m'\u001b[39m):\n\u001b[0;32m    736\u001b[0m         \u001b[38;5;28mself\u001b[39m\u001b[38;5;241m.\u001b[39mshell\u001b[38;5;241m.\u001b[39muser_ns[\u001b[38;5;124m'\u001b[39m\u001b[38;5;124m__file__\u001b[39m\u001b[38;5;124m'\u001b[39m] \u001b[38;5;241m=\u001b[39m filename\n\u001b[1;32m--> 737\u001b[0m         \u001b[38;5;28mself\u001b[39m\u001b[38;5;241m.\u001b[39mshell\u001b[38;5;241m.\u001b[39msafe_execfile_ipy(filename, raise_exceptions\u001b[38;5;241m=\u001b[39m\u001b[38;5;28;01mTrue\u001b[39;00m)\n\u001b[0;32m    738\u001b[0m     \u001b[38;5;28;01mreturn\u001b[39;00m\n\u001b[0;32m    740\u001b[0m \u001b[38;5;66;03m# Control the response to exit() calls made by the script being run\u001b[39;00m\n",
      "File \u001b[1;32mc:\\Users\\ttami\\anaconda3\\Lib\\site-packages\\IPython\\core\\interactiveshell.py:2981\u001b[0m, in \u001b[0;36mInteractiveShell.safe_execfile_ipy\u001b[1;34m(self, fname, shell_futures, raise_exceptions)\u001b[0m\n\u001b[0;32m   2979\u001b[0m result \u001b[38;5;241m=\u001b[39m \u001b[38;5;28mself\u001b[39m\u001b[38;5;241m.\u001b[39mrun_cell(cell, silent\u001b[38;5;241m=\u001b[39m\u001b[38;5;28;01mTrue\u001b[39;00m, shell_futures\u001b[38;5;241m=\u001b[39mshell_futures)\n\u001b[0;32m   2980\u001b[0m \u001b[38;5;28;01mif\u001b[39;00m raise_exceptions:\n\u001b[1;32m-> 2981\u001b[0m     result\u001b[38;5;241m.\u001b[39mraise_error()\n\u001b[0;32m   2982\u001b[0m \u001b[38;5;28;01melif\u001b[39;00m \u001b[38;5;129;01mnot\u001b[39;00m result\u001b[38;5;241m.\u001b[39msuccess:\n\u001b[0;32m   2983\u001b[0m     \u001b[38;5;28;01mbreak\u001b[39;00m\n",
      "File \u001b[1;32mc:\\Users\\ttami\\anaconda3\\Lib\\site-packages\\IPython\\core\\interactiveshell.py:294\u001b[0m, in \u001b[0;36mExecutionResult.raise_error\u001b[1;34m(self)\u001b[0m\n\u001b[0;32m    292\u001b[0m     \u001b[38;5;28;01mraise\u001b[39;00m \u001b[38;5;28mself\u001b[39m\u001b[38;5;241m.\u001b[39merror_before_exec\n\u001b[0;32m    293\u001b[0m \u001b[38;5;28;01mif\u001b[39;00m \u001b[38;5;28mself\u001b[39m\u001b[38;5;241m.\u001b[39merror_in_exec \u001b[38;5;129;01mis\u001b[39;00m \u001b[38;5;129;01mnot\u001b[39;00m \u001b[38;5;28;01mNone\u001b[39;00m:\n\u001b[1;32m--> 294\u001b[0m     \u001b[38;5;28;01mraise\u001b[39;00m \u001b[38;5;28mself\u001b[39m\u001b[38;5;241m.\u001b[39merror_in_exec\n",
      "    \u001b[1;31m[... skipping hidden 1 frame]\u001b[0m\n",
      "File \u001b[1;32m~\\AppData\\Local\\Temp\\ipykernel_3984\\1283778858.py:14\u001b[0m\n\u001b[0;32m     10\u001b[0m num_units\u001b[38;5;241m=\u001b[39munits_n\n\u001b[0;32m     12\u001b[0m \u001b[38;5;66;03m#making the firing rate map for every cell and every round for both zscore and raw data\u001b[39;00m\n\u001b[1;32m---> 14\u001b[0m firing_rate_maps\u001b[38;5;241m=\u001b[39mmake_firing_rate_maps(fluo_z_score,rounds,num_units,num_bins)\n\u001b[0;32m     15\u001b[0m firing_rate_maps_raw_data\u001b[38;5;241m=\u001b[39mmake_firing_rate_maps(fluo_raw_data,rounds,num_units,num_bins)\n\u001b[0;32m     17\u001b[0m \u001b[38;5;66;03m#calculate the average firing rate map for every cell\u001b[39;00m\n",
      "File \u001b[1;32mc:\\Users\\ttami\\OneDrive\\PhD\\Lab\\Programming\\2-place-coding\\2p-place-coding\\notebooks\\..\\placecode\\spatial_coding_functions.py:46\u001b[0m, in \u001b[0;36mmake_firing_rate_maps\u001b[1;34m(data, rounds, num_units, num_bins)\u001b[0m\n\u001b[0;32m     44\u001b[0m \u001b[38;5;28;01mdef\u001b[39;00m \u001b[38;5;21mmake_firing_rate_maps\u001b[39m(data,rounds, num_units, num_bins):\n\u001b[0;32m     45\u001b[0m     \u001b[38;5;66;03m# Initialize a 3-dimensional array to store firing rate maps for each cell and round\u001b[39;00m\n\u001b[1;32m---> 46\u001b[0m     firing_rate_maps \u001b[38;5;241m=\u001b[39m np\u001b[38;5;241m.\u001b[39mzeros((\u001b[38;5;28mint\u001b[39m(num_units), rounds, num_bins))\n\u001b[0;32m     48\u001b[0m     \u001b[38;5;28;01mfor\u001b[39;00m cell \u001b[38;5;129;01min\u001b[39;00m \u001b[38;5;28mrange\u001b[39m(num_units):        \n\u001b[0;32m     49\u001b[0m         \u001b[38;5;28;01mfor\u001b[39;00m round_num \u001b[38;5;129;01min\u001b[39;00m rounds:\n\u001b[0;32m     50\u001b[0m             \u001b[38;5;66;03m# Filter data for the current round and cell\u001b[39;00m\n",
      "\u001b[1;31mTypeError\u001b[0m: 'list' object cannot be interpreted as an integer"
     ]
    }
   ],
   "source": [
    "\n",
    "\n",
    "mice_list=['OPI2342','OPI2356']\n",
    "conditions=['baseline_d1','baseline_d2','24hrs_post_SD']\n",
    "num_bins=150\n",
    "belt_length=150\n",
    "peak_threshold=3 #amount of sd from the baseline activity\n",
    "peak_distance=10 #distance in cells that I am looking for local maxima\n",
    "belt_length=150 #(in cm)\n",
    "shuffling_times=1000  #time of shuffling for statistical comparison\n",
    "\n",
    "exported_data_folder='D:/sd_project_pbox/exported_data'\n",
    "\n",
    "for mouse_ID in mice_list:\n",
    "    for condition in conditions:\n",
    "        print(mouse_ID,condition)\n",
    "        save_folder=f\"D:/sd_project_pbox/results/{mouse_ID}/{condition}\"\n",
    "        print(save_folder)\n",
    "        \n",
    "        %run spatial_coding_test.ipynb"
   ]
  },
  {
   "cell_type": "code",
   "execution_count": null,
   "metadata": {},
   "outputs": [],
   "source": [
    "stripe_hdf=h5py.File(belt_file)['inferred']['belt_dict']['stripes']\n",
    "stripe_hdf=pd.DataFrame(stripe_hdf)"
   ]
  },
  {
   "cell_type": "code",
   "execution_count": null,
   "metadata": {},
   "outputs": [],
   "source": [
    "stripe_hdf"
   ]
  },
  {
   "cell_type": "code",
   "execution_count": null,
   "metadata": {},
   "outputs": [],
   "source": [
    "belt_file"
   ]
  },
  {
   "cell_type": "code",
   "execution_count": null,
   "metadata": {},
   "outputs": [],
   "source": []
  }
 ],
 "metadata": {
  "kernelspec": {
   "display_name": ".venv",
   "language": "python",
   "name": "python3"
  },
  "language_info": {
   "codemirror_mode": {
    "name": "ipython",
    "version": 3
   },
   "file_extension": ".py",
   "mimetype": "text/x-python",
   "name": "python",
   "nbconvert_exporter": "python",
   "pygments_lexer": "ipython3",
   "version": "3.11.7"
  }
 },
 "nbformat": 4,
 "nbformat_minor": 2
}
