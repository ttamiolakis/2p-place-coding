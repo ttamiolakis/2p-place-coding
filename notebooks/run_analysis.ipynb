{
 "cells": [
  {
   "cell_type": "code",
   "execution_count": null,
   "metadata": {},
   "outputs": [],
   "source": [
    "mice_list=['OPI2342','OPI2356']\n",
    "conditions=['baseline_d1','baseline_d2']\n",
    "num_bins=150\n",
    "belt_length=150\n",
    "peak_threshold=3 #amount of sd from the baseline activity\n",
    "peak_distance=10 #distance in cells that I am looking for local maxima\n",
    "belt_length=150 #(in cm)\n",
    "shuffling_times=1000  #time of shuffling for statistical comparison\n",
    "\n",
    "exported_data_folder='D:/sd_project_pbox/exported_data'\n",
    "\n",
    "for mouse_ID in mice_list:\n",
    "    for condition in conditions:\n",
    "        print(mouse_ID,condition)\n",
    "        \n",
    "        %run spatial_coding_test.ipynb"
   ]
  },
  {
   "cell_type": "code",
   "execution_count": null,
   "metadata": {},
   "outputs": [],
   "source": [
    "stripe_hdf=h5py.File(belt_file)['inferred']['belt_dict']['stripes']\n",
    "stripe_hdf=pd.DataFrame(stripe_hdf)"
   ]
  },
  {
   "cell_type": "code",
   "execution_count": null,
   "metadata": {},
   "outputs": [],
   "source": [
    "stripe_hdf"
   ]
  },
  {
   "cell_type": "code",
   "execution_count": null,
   "metadata": {},
   "outputs": [],
   "source": [
    "belt_file"
   ]
  },
  {
   "cell_type": "code",
   "execution_count": null,
   "metadata": {},
   "outputs": [],
   "source": []
  }
 ],
 "metadata": {
  "kernelspec": {
   "display_name": ".venv",
   "language": "python",
   "name": "python3"
  },
  "language_info": {
   "codemirror_mode": {
    "name": "ipython",
    "version": 3
   },
   "file_extension": ".py",
   "mimetype": "text/x-python",
   "name": "python",
   "nbconvert_exporter": "python",
   "pygments_lexer": "ipython3",
   "version": "3.11.7"
  }
 },
 "nbformat": 4,
 "nbformat_minor": 2
}
