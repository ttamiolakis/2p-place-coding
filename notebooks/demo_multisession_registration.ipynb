{
 "cells": [
  {
   "cell_type": "markdown",
   "metadata": {},
   "source": [
    "# Multisession registration with CaImAn\n",
    "\n",
    "This notebook will help to demonstrate how to use CaImAn on movies recorded in multiple sessions. CaImAn has in-built functions that align movies from two or more sessions and try to recognize components that are imaged in some or all of these recordings.\n",
    "\n",
    "The basic function for this is `caiman.base.rois.register_ROIs()`. It takes two sets of spatial components and finds components present in both using an intersection over union metric and the Hungarian algorithm for optimal matching.\n",
    "`caiman.base.rois.register_multisession()` takes a list of spatial components, aligns sessions 1 and 2, keeps the union of the matched and unmatched components to register it with session 3 and so on."
   ]
  },
  {
   "cell_type": "code",
   "execution_count": 18,
   "metadata": {},
   "outputs": [
    {
     "name": "stdout",
     "output_type": "stream",
     "text": [
      "The autoreload extension is already loaded. To reload it, use:\n",
      "  %reload_ext autoreload\n"
     ]
    }
   ],
   "source": [
    "from IPython import get_ipython\n",
    "from matplotlib import pyplot as plt\n",
    "import numpy as np\n",
    "import pickle\n",
    "import h5py\n",
    "import glob\n",
    "import pims_nd2\n",
    "\n",
    "from caiman.base.rois import register_multisession\n",
    "from caiman.utils import visualization\n",
    "from caiman.source_extraction.cnmf import cnmf as cnmf\n",
    "from caiman.utils.utils import download_demo\n",
    "\n",
    "try:\n",
    "    if __IPYTHON__:\n",
    "        get_ipython().run_line_magic('load_ext', 'autoreload')\n",
    "        get_ipython().run_line_magic('autoreload', '2')\n",
    "except NameError:\n",
    "    pass"
   ]
  },
  {
   "cell_type": "markdown",
   "metadata": {},
   "source": [
    "loading the files and trying to make everything automatic"
   ]
  },
  {
   "cell_type": "code",
   "execution_count": 236,
   "metadata": {},
   "outputs": [],
   "source": [
    "animal='OPI2356'\n",
    "conditions=['baseline_d2','24hrs_post_SD']"
   ]
  },
  {
   "cell_type": "code",
   "execution_count": 53,
   "metadata": {},
   "outputs": [],
   "source": [
    "# Load multisession data (spatial components and mean intensity templates) (should be replaced by actual data)\n",
    "home_folder=f'D:/sd_project_pbox/exported_data/{animal}'\n",
    "file_path1 = glob.glob(f\"{home_folder}/baseline_d1/*.hdf5\")[0]\n",
    "file_path2 = glob.glob(f\"{home_folder}/baseline_d2/*.hdf5\")[0]\n",
    "file_path3 = glob.glob(f\"{home_folder}/24hrs_post_SD/*.hdf5\")[0]\n",
    "#infile = open(file_path,'rb')\n",
    "#data = pickle.load(infile)\n",
    "#infile.close()\n",
    "\n",
    "# spatial = data[0]\n",
    "# templates = data[1]\n",
    "# dims = templates[0].shape"
   ]
  },
  {
   "cell_type": "code",
   "execution_count": 54,
   "metadata": {},
   "outputs": [],
   "source": [
    "cnmf_1=cnmf.load_CNMF(file_path1,'r')\n",
    "cnmf_2=cnmf.load_CNMF(file_path2,'r')\n",
    "cnmf_3=cnmf.load_CNMF(file_path3,'r')"
   ]
  },
  {
   "cell_type": "code",
   "execution_count": 55,
   "metadata": {},
   "outputs": [],
   "source": [
    "home_folder='D:/sd_project_pbox/raw_data/OPI_2342'\n",
    "\n",
    "template_path1 = glob.glob(f\"{home_folder}/240318_baseline1/*.nd2\")[0]\n",
    "template_path2 = glob.glob(f\"{home_folder}/240319_baseline2/*.nd2\")[0]\n",
    "template_path3 = glob.glob(f\"{home_folder}/240320_24hr_post_SD/*.nd2\")[0]"
   ]
  },
  {
   "cell_type": "code",
   "execution_count": 56,
   "metadata": {},
   "outputs": [
    {
     "name": "stderr",
     "output_type": "stream",
     "text": [
      "c:\\Users\\ttami\\anaconda3\\envs\\caiman\\lib\\site-packages\\pims\\base_frames.py:478: UserWarning: Please call FramesSequenceND.__init__() at the start of thethe reader initialization.\n",
      "  warn(\"Please call FramesSequenceND.__init__() at the start of the\"\n"
     ]
    }
   ],
   "source": [
    "nikon_movie1=pims_nd2.ND2_Reader(template_path1)\n",
    "nikon_movie2=pims_nd2.ND2_Reader(template_path2)\n",
    "nikon_movie3=pims_nd2.ND2_Reader(template_path3)"
   ]
  },
  {
   "cell_type": "code",
   "execution_count": 57,
   "metadata": {},
   "outputs": [
    {
     "name": "stderr",
     "output_type": "stream",
     "text": [
      "Exception ignored in: <function ND2_Reader.__del__ at 0x0000023CADC697E0>\n",
      "Traceback (most recent call last):\n",
      "  File \"c:\\Users\\ttami\\anaconda3\\envs\\caiman\\lib\\site-packages\\pims_nd2\\nd2reader.py\", line 180, in __del__\n",
      "    self.close()\n",
      "  File \"c:\\Users\\ttami\\anaconda3\\envs\\caiman\\lib\\site-packages\\pims_nd2\\nd2reader.py\", line 174, in close\n",
      "    if self._handle:\n",
      "AttributeError: 'ND2_Reader' object has no attribute '_handle'\n"
     ]
    }
   ],
   "source": [
    "template1 = np.mean(nikon_movie1[:600], axis=0)\n",
    "template2 = np.mean(nikon_movie2[:600], axis=0)\n",
    "template3 = np.mean(nikon_movie3[:600], axis=0)"
   ]
  },
  {
   "cell_type": "code",
   "execution_count": 242,
   "metadata": {},
   "outputs": [],
   "source": [
    "from matplotlib.colors import LinearSegmentedColormap"
   ]
  },
  {
   "cell_type": "code",
   "execution_count": 251,
   "metadata": {},
   "outputs": [
    {
     "data": {
      "text/plain": [
       "<matplotlib.image.AxesImage at 0x23db4f587c0>"
      ]
     },
     "execution_count": 251,
     "metadata": {},
     "output_type": "execute_result"
    },
    {
     "data": {
      "image/png": "[encoded data removed]",
      "text/plain": [
       "<Figure size 640x480 with 1 Axes>"
      ]
     },
     "metadata": {},
     "output_type": "display_data"
    }
   ],
   "source": [
    "cmap = LinearSegmentedColormap.from_list('custom_cmap', ['black', 'red'], N=2)\n",
    "\n",
    "plt.imshow(template3,cmap=cmap)"
   ]
  },
  {
   "cell_type": "code",
   "execution_count": 59,
   "metadata": {},
   "outputs": [],
   "source": [
    "templates=[template1,template2,template3]"
   ]
  },
  {
   "cell_type": "code",
   "execution_count": 60,
   "metadata": {},
   "outputs": [],
   "source": [
    "spatials=[cnmf_1.estimates.A,cnmf_2.estimates.A,cnmf_3.estimates.A]\n",
    "dims=cnmf_1.dims"
   ]
  },
  {
   "cell_type": "markdown",
   "metadata": {},
   "source": [
    "## Use `register_multisession()`\n",
    "\n",
    "The function `register_multisession()` requires 3 arguments:\n",
    "- `A`: A list of ndarrays or scipy.sparse.csc matrices with (# pixels X # component ROIs) for each session\n",
    "- `dims`: Dimensions of the FOV, needed to restore spatial components to a 2D image\n",
    "- `templates`: List of ndarray matrices of size `dims`, template image of each session"
   ]
  },
  {
   "cell_type": "code",
   "execution_count": 61,
   "metadata": {},
   "outputs": [
    {
     "name": "stderr",
     "output_type": "stream",
     "text": [
      "c:\\Users\\ttami\\anaconda3\\envs\\caiman\\lib\\site-packages\\scipy\\sparse\\_index.py:151: SparseEfficiencyWarning: Changing the sparsity structure of a csc_matrix is expensive. lil_matrix is more efficient.\n",
      "  self._set_arrayXarray(i, j, x)\n"
     ]
    }
   ],
   "source": [
    "spatial_union, assignments, matchings = register_multisession(A=spatials, dims=dims, templates=templates)"
   ]
  },
  {
   "cell_type": "code",
   "execution_count": 65,
   "metadata": {},
   "outputs": [
    {
     "data": {
      "text/plain": [
       "563"
      ]
     },
     "execution_count": 65,
     "metadata": {},
     "output_type": "execute_result"
    }
   ],
   "source": [
    "len(assignments)"
   ]
  },
  {
   "cell_type": "code",
   "execution_count": 190,
   "metadata": {},
   "outputs": [],
   "source": [
    "# Find the rows where there are no NaN values\n",
    "cr_reg_cells = assignments[~np.isnan(assignments).any(axis=1)]"
   ]
  },
  {
   "cell_type": "code",
   "execution_count": 196,
   "metadata": {},
   "outputs": [],
   "source": [
    "#find the place cells that were cross registered in all three sessions\n",
    "output_files=\"D:/sd_project_pbox/results/OPI2356\"\n",
    "pc_day_1=h5py.File(f'{output_files}/baseline_d1/output_info.h5')['place_cells_tuned_vector']\n",
    "pc_day_1=np.array(pc_day_1)\n",
    "pc_day_2=h5py.File(f'{output_files}/baseline_d2/output_info.h5')['place_cells_tuned_vector']\n",
    "pc_day_2=np.array(pc_day_2)\n",
    "pc_day_3=h5py.File(f'{output_files}/24hrs_post_SD/output_info.h5')['place_cells_tuned_vector']\n",
    "pc_day_3=np.array(pc_day_3)\n"
   ]
  },
  {
   "cell_type": "code",
   "execution_count": 197,
   "metadata": {},
   "outputs": [],
   "source": [
    "#identify common place cells in baseline 2 and 24 hrs post SD\n",
    "cr_reg_pl_cells_days_2_3=cr_reg_cells[np.isin(cr_reg_cells[:,1],pc_day_2) & np.isin(cr_reg_cells[:,2],pc_day_3)]"
   ]
  },
  {
   "cell_type": "code",
   "execution_count": 199,
   "metadata": {},
   "outputs": [],
   "source": [
    "#indetify only the cross registered place cells in each of the recordings\n",
    "avr_fir_rate_map_day_2=h5py.File(f'{output_files}/baseline_d2/output_info.h5')['avr_firing_rate_maps']\n",
    "avr_fir_rate_map_day_2=pd.DataFrame(avr_fir_rate_map_day_2)\n",
    "cr_pc_act_day_2=avr_fir_rate_map_day_2.iloc[list(cr_reg_pl_cells_days_2_3[:,1].astype(int))]\n",
    "\n",
    "avr_fir_rate_map_day_3=h5py.File(f'{output_files}/24hrs_post_SD/output_info.h5')['avr_firing_rate_maps']\n",
    "avr_fir_rate_map_day_3=pd.DataFrame(avr_fir_rate_map_day_3)\n",
    "cr_pc_act_day_3=avr_fir_rate_map_day_3.iloc[list(cr_reg_pl_cells_days_2_3[:,2].astype(int))]"
   ]
  },
  {
   "cell_type": "code",
   "execution_count": 201,
   "metadata": {},
   "outputs": [
    {
     "data": {
      "text/html": [
       "<div>\n",
       "<style scoped>\n",
       "    .dataframe tbody tr th:only-of-type {\n",
       "        vertical-align: middle;\n",
       "    }\n",
       "\n",
       "    .dataframe tbody tr th {\n",
       "        vertical-align: top;\n",
       "    }\n",
       "\n",
       "    .dataframe thead th {\n",
       "        text-align: right;\n",
       "    }\n",
       "</style>\n",
       "<table border=\"1\" class=\"dataframe\">\n",
       "  <thead>\n",
       "    <tr style=\"text-align: right;\">\n",
       "      <th></th>\n",
       "      <th>0</th>\n",
       "      <th>1</th>\n",
       "      <th>2</th>\n",
       "      <th>3</th>\n",
       "      <th>4</th>\n",
       "      <th>5</th>\n",
       "      <th>6</th>\n",
       "      <th>7</th>\n",
       "      <th>8</th>\n",
       "      <th>9</th>\n",
       "      <th>...</th>\n",
       "      <th>140</th>\n",
       "      <th>141</th>\n",
       "      <th>142</th>\n",
       "      <th>143</th>\n",
       "      <th>144</th>\n",
       "      <th>145</th>\n",
       "      <th>146</th>\n",
       "      <th>147</th>\n",
       "      <th>148</th>\n",
       "      <th>149</th>\n",
       "    </tr>\n",
       "  </thead>\n",
       "  <tbody>\n",
       "    <tr>\n",
       "      <th>215</th>\n",
       "      <td>-0.103221</td>\n",
       "      <td>-0.103245</td>\n",
       "      <td>-0.081664</td>\n",
       "      <td>0.058603</td>\n",
       "      <td>-0.082577</td>\n",
       "      <td>0.434435</td>\n",
       "      <td>0.551400</td>\n",
       "      <td>0.638491</td>\n",
       "      <td>0.557453</td>\n",
       "      <td>0.530744</td>\n",
       "      <td>...</td>\n",
       "      <td>0.239014</td>\n",
       "      <td>0.236693</td>\n",
       "      <td>0.159373</td>\n",
       "      <td>0.139295</td>\n",
       "      <td>-0.065953</td>\n",
       "      <td>-0.082363</td>\n",
       "      <td>-0.092739</td>\n",
       "      <td>-0.092774</td>\n",
       "      <td>-0.082454</td>\n",
       "      <td>-0.103186</td>\n",
       "    </tr>\n",
       "    <tr>\n",
       "      <th>39</th>\n",
       "      <td>-0.126906</td>\n",
       "      <td>-0.144071</td>\n",
       "      <td>-0.157422</td>\n",
       "      <td>-0.180943</td>\n",
       "      <td>-0.160837</td>\n",
       "      <td>-0.134445</td>\n",
       "      <td>-0.021438</td>\n",
       "      <td>0.151565</td>\n",
       "      <td>0.348531</td>\n",
       "      <td>0.555868</td>\n",
       "      <td>...</td>\n",
       "      <td>1.073322</td>\n",
       "      <td>1.599749</td>\n",
       "      <td>2.284450</td>\n",
       "      <td>0.363688</td>\n",
       "      <td>0.176385</td>\n",
       "      <td>0.037144</td>\n",
       "      <td>-0.023096</td>\n",
       "      <td>-0.036526</td>\n",
       "      <td>-0.044660</td>\n",
       "      <td>-0.112465</td>\n",
       "    </tr>\n",
       "    <tr>\n",
       "      <th>199</th>\n",
       "      <td>-0.146577</td>\n",
       "      <td>-0.148765</td>\n",
       "      <td>-0.125791</td>\n",
       "      <td>-0.142377</td>\n",
       "      <td>-0.126545</td>\n",
       "      <td>-0.158204</td>\n",
       "      <td>-0.142387</td>\n",
       "      <td>-0.142412</td>\n",
       "      <td>-0.158242</td>\n",
       "      <td>-0.126597</td>\n",
       "      <td>...</td>\n",
       "      <td>1.160226</td>\n",
       "      <td>1.400711</td>\n",
       "      <td>1.215296</td>\n",
       "      <td>0.006901</td>\n",
       "      <td>-0.107073</td>\n",
       "      <td>-0.101411</td>\n",
       "      <td>-0.121351</td>\n",
       "      <td>-0.122780</td>\n",
       "      <td>-0.110063</td>\n",
       "      <td>-0.144882</td>\n",
       "    </tr>\n",
       "  </tbody>\n",
       "</table>\n",
       "<p>3 rows × 150 columns</p>\n",
       "</div>"
      ],
      "text/plain": [
       "          0         1         2         3         4         5         6    \\\n",
       "215 -0.103221 -0.103245 -0.081664  0.058603 -0.082577  0.434435  0.551400   \n",
       "39  -0.126906 -0.144071 -0.157422 -0.180943 -0.160837 -0.134445 -0.021438   \n",
       "199 -0.146577 -0.148765 -0.125791 -0.142377 -0.126545 -0.158204 -0.142387   \n",
       "\n",
       "          7         8         9    ...       140       141       142  \\\n",
       "215  0.638491  0.557453  0.530744  ...  0.239014  0.236693  0.159373   \n",
       "39   0.151565  0.348531  0.555868  ...  1.073322  1.599749  2.284450   \n",
       "199 -0.142412 -0.158242 -0.126597  ...  1.160226  1.400711  1.215296   \n",
       "\n",
       "          143       144       145       146       147       148       149  \n",
       "215  0.139295 -0.065953 -0.082363 -0.092739 -0.092774 -0.082454 -0.103186  \n",
       "39   0.363688  0.176385  0.037144 -0.023096 -0.036526 -0.044660 -0.112465  \n",
       "199  0.006901 -0.107073 -0.101411 -0.121351 -0.122780 -0.110063 -0.144882  \n",
       "\n",
       "[3 rows x 150 columns]"
      ]
     },
     "execution_count": 201,
     "metadata": {},
     "output_type": "execute_result"
    }
   ],
   "source": [
    "cr_pc_act_day_3"
   ]
  },
  {
   "cell_type": "code",
   "execution_count": 212,
   "metadata": {},
   "outputs": [],
   "source": [
    "place_cell_activity=cr_pc_act_day_2\n",
    "place_cell_indexes_max=np.argmax(place_cell_activity,axis=1) #finding the place of the max activity of every cell\n",
    "place_cell_indexed_filtered=place_cell_activity.apply(np.argmax, axis=1).sort_values().index #there are the new indexes of the place cells just so thez can form the nice place cell diagram\n",
    "original=place_cell_activity.index\n",
    "transpose=place_cell_indexed_filtered\n",
    "place_cell_activity=place_cell_activity.reindex(index=transpose) #reindexing the place cell panda frame according to the max activitz and the position in the belt"
   ]
  },
  {
   "cell_type": "code",
   "execution_count": 214,
   "metadata": {},
   "outputs": [
    {
     "data": {
      "text/plain": [
       "Index([257, 30, 209], dtype='int64')"
      ]
     },
     "execution_count": 214,
     "metadata": {},
     "output_type": "execute_result"
    }
   ],
   "source": [
    "transpose"
   ]
  },
  {
   "cell_type": "code",
   "execution_count": 221,
   "metadata": {},
   "outputs": [
    {
     "data": {
      "text/plain": [
       "array([[ 25., 209., 215.],\n",
       "       [ 31.,  30.,  39.],\n",
       "       [196., 257., 199.]])"
      ]
     },
     "execution_count": 221,
     "metadata": {},
     "output_type": "execute_result"
    }
   ],
   "source": [
    "cr_reg_pl_cells_days_2_3"
   ]
  },
  {
   "cell_type": "code",
   "execution_count": 226,
   "metadata": {},
   "outputs": [
    {
     "data": {
      "text/html": [
       "<div>\n",
       "<style scoped>\n",
       "    .dataframe tbody tr th:only-of-type {\n",
       "        vertical-align: middle;\n",
       "    }\n",
       "\n",
       "    .dataframe tbody tr th {\n",
       "        vertical-align: top;\n",
       "    }\n",
       "\n",
       "    .dataframe thead th {\n",
       "        text-align: right;\n",
       "    }\n",
       "</style>\n",
       "<table border=\"1\" class=\"dataframe\">\n",
       "  <thead>\n",
       "    <tr style=\"text-align: right;\">\n",
       "      <th></th>\n",
       "      <th>0</th>\n",
       "      <th>1</th>\n",
       "      <th>2</th>\n",
       "      <th>3</th>\n",
       "      <th>4</th>\n",
       "      <th>5</th>\n",
       "      <th>6</th>\n",
       "      <th>7</th>\n",
       "      <th>8</th>\n",
       "      <th>9</th>\n",
       "      <th>...</th>\n",
       "      <th>140</th>\n",
       "      <th>141</th>\n",
       "      <th>142</th>\n",
       "      <th>143</th>\n",
       "      <th>144</th>\n",
       "      <th>145</th>\n",
       "      <th>146</th>\n",
       "      <th>147</th>\n",
       "      <th>148</th>\n",
       "      <th>149</th>\n",
       "    </tr>\n",
       "  </thead>\n",
       "  <tbody>\n",
       "    <tr>\n",
       "      <th>102</th>\n",
       "      <td>0.110791</td>\n",
       "      <td>0.086170</td>\n",
       "      <td>-0.046230</td>\n",
       "      <td>-0.094587</td>\n",
       "      <td>-0.083420</td>\n",
       "      <td>-0.107110</td>\n",
       "      <td>-0.096191</td>\n",
       "      <td>-0.096778</td>\n",
       "      <td>-0.108937</td>\n",
       "      <td>-0.086510</td>\n",
       "      <td>...</td>\n",
       "      <td>-0.000804</td>\n",
       "      <td>-0.008777</td>\n",
       "      <td>-0.009404</td>\n",
       "      <td>0.013813</td>\n",
       "      <td>-0.029628</td>\n",
       "      <td>-0.075166</td>\n",
       "      <td>-0.074135</td>\n",
       "      <td>-0.076159</td>\n",
       "      <td>-0.067491</td>\n",
       "      <td>0.106152</td>\n",
       "    </tr>\n",
       "    <tr>\n",
       "      <th>105</th>\n",
       "      <td>-0.106384</td>\n",
       "      <td>-0.108427</td>\n",
       "      <td>-0.093335</td>\n",
       "      <td>-0.105852</td>\n",
       "      <td>-0.094091</td>\n",
       "      <td>-0.117614</td>\n",
       "      <td>-0.105852</td>\n",
       "      <td>-0.105852</td>\n",
       "      <td>-0.117614</td>\n",
       "      <td>-0.094091</td>\n",
       "      <td>...</td>\n",
       "      <td>-0.083023</td>\n",
       "      <td>-0.015469</td>\n",
       "      <td>-0.054412</td>\n",
       "      <td>-0.058641</td>\n",
       "      <td>-0.077434</td>\n",
       "      <td>-0.070388</td>\n",
       "      <td>-0.085897</td>\n",
       "      <td>-0.087204</td>\n",
       "      <td>-0.078301</td>\n",
       "      <td>-0.104756</td>\n",
       "    </tr>\n",
       "    <tr>\n",
       "      <th>196</th>\n",
       "      <td>0.220900</td>\n",
       "      <td>0.156862</td>\n",
       "      <td>-0.012944</td>\n",
       "      <td>-0.042861</td>\n",
       "      <td>0.036267</td>\n",
       "      <td>-0.038536</td>\n",
       "      <td>0.110673</td>\n",
       "      <td>0.126543</td>\n",
       "      <td>0.009540</td>\n",
       "      <td>-0.009306</td>\n",
       "      <td>...</td>\n",
       "      <td>0.663735</td>\n",
       "      <td>0.719321</td>\n",
       "      <td>0.755260</td>\n",
       "      <td>0.031882</td>\n",
       "      <td>0.126579</td>\n",
       "      <td>-0.032753</td>\n",
       "      <td>0.265442</td>\n",
       "      <td>0.238194</td>\n",
       "      <td>0.215993</td>\n",
       "      <td>0.213035</td>\n",
       "    </tr>\n",
       "    <tr>\n",
       "      <th>238</th>\n",
       "      <td>-0.181662</td>\n",
       "      <td>-0.189832</td>\n",
       "      <td>-0.134762</td>\n",
       "      <td>-0.173888</td>\n",
       "      <td>-0.154700</td>\n",
       "      <td>-0.207710</td>\n",
       "      <td>-0.189259</td>\n",
       "      <td>-0.209015</td>\n",
       "      <td>-0.234690</td>\n",
       "      <td>-0.187752</td>\n",
       "      <td>...</td>\n",
       "      <td>-0.096997</td>\n",
       "      <td>0.044708</td>\n",
       "      <td>-0.001639</td>\n",
       "      <td>-0.212580</td>\n",
       "      <td>-0.228713</td>\n",
       "      <td>-0.184945</td>\n",
       "      <td>-0.208943</td>\n",
       "      <td>-0.209122</td>\n",
       "      <td>-0.186034</td>\n",
       "      <td>-0.233351</td>\n",
       "    </tr>\n",
       "  </tbody>\n",
       "</table>\n",
       "<p>4 rows × 150 columns</p>\n",
       "</div>"
      ],
      "text/plain": [
       "          0         1         2         3         4         5         6    \\\n",
       "102  0.110791  0.086170 -0.046230 -0.094587 -0.083420 -0.107110 -0.096191   \n",
       "105 -0.106384 -0.108427 -0.093335 -0.105852 -0.094091 -0.117614 -0.105852   \n",
       "196  0.220900  0.156862 -0.012944 -0.042861  0.036267 -0.038536  0.110673   \n",
       "238 -0.181662 -0.189832 -0.134762 -0.173888 -0.154700 -0.207710 -0.189259   \n",
       "\n",
       "          7         8         9    ...       140       141       142  \\\n",
       "102 -0.096778 -0.108937 -0.086510  ... -0.000804 -0.008777 -0.009404   \n",
       "105 -0.105852 -0.117614 -0.094091  ... -0.083023 -0.015469 -0.054412   \n",
       "196  0.126543  0.009540 -0.009306  ...  0.663735  0.719321  0.755260   \n",
       "238 -0.209015 -0.234690 -0.187752  ... -0.096997  0.044708 -0.001639   \n",
       "\n",
       "          143       144       145       146       147       148       149  \n",
       "102  0.013813 -0.029628 -0.075166 -0.074135 -0.076159 -0.067491  0.106152  \n",
       "105 -0.058641 -0.077434 -0.070388 -0.085897 -0.087204 -0.078301 -0.104756  \n",
       "196  0.031882  0.126579 -0.032753  0.265442  0.238194  0.215993  0.213035  \n",
       "238 -0.212580 -0.228713 -0.184945 -0.208943 -0.209122 -0.186034 -0.233351  \n",
       "\n",
       "[4 rows x 150 columns]"
      ]
     },
     "execution_count": 226,
     "metadata": {},
     "output_type": "execute_result"
    }
   ],
   "source": [
    "place_cell_activity_3"
   ]
  },
  {
   "cell_type": "code",
   "execution_count": 234,
   "metadata": {},
   "outputs": [],
   "source": [
    "place_cell_activity_3=cr_pc_act_day_3.reindex(index=new_indices)"
   ]
  },
  {
   "cell_type": "code",
   "execution_count": 231,
   "metadata": {},
   "outputs": [],
   "source": [
    "new_indices=test[np.argsort(transpose)][:,2].astype(int)"
   ]
  },
  {
   "cell_type": "code",
   "execution_count": 235,
   "metadata": {},
   "outputs": [
    {
     "data": {
      "text/plain": [
       "<Axes: >"
      ]
     },
     "execution_count": 235,
     "metadata": {},
     "output_type": "execute_result"
    },
    {
     "data": {
      "image/png": "[encoded data removed]",
      "text/plain": [
       "<Figure size 640x480 with 2 Axes>"
      ]
     },
     "metadata": {},
     "output_type": "display_data"
    }
   ],
   "source": [
    "sns.heatmap(place_cell_activity_3)"
   ]
  },
  {
   "cell_type": "code",
   "execution_count": 213,
   "metadata": {},
   "outputs": [
    {
     "data": {
      "text/plain": [
       "<Axes: >"
      ]
     },
     "execution_count": 213,
     "metadata": {},
     "output_type": "execute_result"
    },
    {
     "data": {
      "image/png": "[encoded data removed]",
      "text/plain": [
       "<Figure size 640x480 with 2 Axes>"
      ]
     },
     "metadata": {},
     "output_type": "display_data"
    }
   ],
   "source": [
    "sns.heatmap(place_cell_activity)"
   ]
  },
  {
   "cell_type": "code",
   "execution_count": null,
   "metadata": {},
   "outputs": [],
   "source": [
    "place_cell_activity_3=cr_pc_act_day_3\n",
    "place_cell_indexes_max=np.argmax(place_cell_activity,axis=1) #finding the place of the max activity of every cell\n",
    "place_cell_indexed_filtered=place_cell_activity.apply(np.argmax, axis=1).sort_values().index #there are the new indexes of the place cells just so thez can form the nice place cell diagram\n",
    "original=place_cell_activity.index\n",
    "transpose=place_cell_indexed_filtered\n",
    "place_cell_activity_2=place_cell_activity.reindex(index=transpose) #reindexing the place cell panda frame according to the max activitz and the position in the belt"
   ]
  },
  {
   "cell_type": "code",
   "execution_count": 165,
   "metadata": {},
   "outputs": [
    {
     "data": {
      "text/plain": [
       "Index([238, 105, 102, 196], dtype='int64')"
      ]
     },
     "execution_count": 165,
     "metadata": {},
     "output_type": "execute_result"
    }
   ],
   "source": [
    "transpose"
   ]
  },
  {
   "cell_type": "code",
   "execution_count": 170,
   "metadata": {},
   "outputs": [],
   "source": [
    "new_indices=place_cell_indexed_filtered.get_indexer(common_cells[:,1])"
   ]
  },
  {
   "cell_type": "code",
   "execution_count": 177,
   "metadata": {},
   "outputs": [],
   "source": [
    "index_pc_day_2=common_cells[:,2][new_indices]"
   ]
  },
  {
   "cell_type": "code",
   "execution_count": 179,
   "metadata": {},
   "outputs": [],
   "source": [
    "index_pc_day_2=pd.Index(index_pc_day_2)"
   ]
  },
  {
   "cell_type": "code",
   "execution_count": 189,
   "metadata": {},
   "outputs": [
    {
     "data": {
      "text/plain": [
       "Index([235.0, 98.0, 64.0, 93.0], dtype='float64')"
      ]
     },
     "execution_count": 189,
     "metadata": {},
     "output_type": "execute_result"
    }
   ],
   "source": [
    "index_pc_day_2"
   ]
  },
  {
   "cell_type": "code",
   "execution_count": 185,
   "metadata": {},
   "outputs": [
    {
     "data": {
      "text/plain": [
       "Index([235.0, 98.0, 64.0, 93.0], dtype='float64')"
      ]
     },
     "execution_count": 185,
     "metadata": {},
     "output_type": "execute_result"
    }
   ],
   "source": [
    "index_pc_day_2"
   ]
  },
  {
   "cell_type": "code",
   "execution_count": 182,
   "metadata": {},
   "outputs": [
    {
     "data": {
      "text/plain": [
       "Index([235, 98, 64, 93], dtype='int32')"
      ]
     },
     "execution_count": 182,
     "metadata": {},
     "output_type": "execute_result"
    }
   ],
   "source": [
    "index_pc_day_2.astype(int)"
   ]
  },
  {
   "cell_type": "code",
   "execution_count": 173,
   "metadata": {},
   "outputs": [],
   "source": [
    "new_indices=pd.Index(new_indices)"
   ]
  },
  {
   "cell_type": "code",
   "execution_count": null,
   "metadata": {},
   "outputs": [],
   "source": []
  },
  {
   "cell_type": "code",
   "execution_count": 186,
   "metadata": {},
   "outputs": [
    {
     "data": {
      "text/html": [
       "<div>\n",
       "<style scoped>\n",
       "    .dataframe tbody tr th:only-of-type {\n",
       "        vertical-align: middle;\n",
       "    }\n",
       "\n",
       "    .dataframe tbody tr th {\n",
       "        vertical-align: top;\n",
       "    }\n",
       "\n",
       "    .dataframe thead th {\n",
       "        text-align: right;\n",
       "    }\n",
       "</style>\n",
       "<table border=\"1\" class=\"dataframe\">\n",
       "  <thead>\n",
       "    <tr style=\"text-align: right;\">\n",
       "      <th></th>\n",
       "      <th>0</th>\n",
       "      <th>1</th>\n",
       "      <th>2</th>\n",
       "      <th>3</th>\n",
       "      <th>4</th>\n",
       "      <th>5</th>\n",
       "      <th>6</th>\n",
       "      <th>7</th>\n",
       "      <th>8</th>\n",
       "      <th>9</th>\n",
       "      <th>...</th>\n",
       "      <th>140</th>\n",
       "      <th>141</th>\n",
       "      <th>142</th>\n",
       "      <th>143</th>\n",
       "      <th>144</th>\n",
       "      <th>145</th>\n",
       "      <th>146</th>\n",
       "      <th>147</th>\n",
       "      <th>148</th>\n",
       "      <th>149</th>\n",
       "    </tr>\n",
       "  </thead>\n",
       "  <tbody>\n",
       "    <tr>\n",
       "      <th>102</th>\n",
       "      <td>0.110791</td>\n",
       "      <td>0.086170</td>\n",
       "      <td>-0.046230</td>\n",
       "      <td>-0.094587</td>\n",
       "      <td>-0.083420</td>\n",
       "      <td>-0.107110</td>\n",
       "      <td>-0.096191</td>\n",
       "      <td>-0.096778</td>\n",
       "      <td>-0.108937</td>\n",
       "      <td>-0.086510</td>\n",
       "      <td>...</td>\n",
       "      <td>-0.000804</td>\n",
       "      <td>-0.008777</td>\n",
       "      <td>-0.009404</td>\n",
       "      <td>0.013813</td>\n",
       "      <td>-0.029628</td>\n",
       "      <td>-0.075166</td>\n",
       "      <td>-0.074135</td>\n",
       "      <td>-0.076159</td>\n",
       "      <td>-0.067491</td>\n",
       "      <td>0.106152</td>\n",
       "    </tr>\n",
       "    <tr>\n",
       "      <th>105</th>\n",
       "      <td>-0.106384</td>\n",
       "      <td>-0.108427</td>\n",
       "      <td>-0.093335</td>\n",
       "      <td>-0.105852</td>\n",
       "      <td>-0.094091</td>\n",
       "      <td>-0.117614</td>\n",
       "      <td>-0.105852</td>\n",
       "      <td>-0.105852</td>\n",
       "      <td>-0.117614</td>\n",
       "      <td>-0.094091</td>\n",
       "      <td>...</td>\n",
       "      <td>-0.083023</td>\n",
       "      <td>-0.015469</td>\n",
       "      <td>-0.054412</td>\n",
       "      <td>-0.058641</td>\n",
       "      <td>-0.077434</td>\n",
       "      <td>-0.070388</td>\n",
       "      <td>-0.085897</td>\n",
       "      <td>-0.087204</td>\n",
       "      <td>-0.078301</td>\n",
       "      <td>-0.104756</td>\n",
       "    </tr>\n",
       "    <tr>\n",
       "      <th>196</th>\n",
       "      <td>0.220900</td>\n",
       "      <td>0.156862</td>\n",
       "      <td>-0.012944</td>\n",
       "      <td>-0.042861</td>\n",
       "      <td>0.036267</td>\n",
       "      <td>-0.038536</td>\n",
       "      <td>0.110673</td>\n",
       "      <td>0.126543</td>\n",
       "      <td>0.009540</td>\n",
       "      <td>-0.009306</td>\n",
       "      <td>...</td>\n",
       "      <td>0.663735</td>\n",
       "      <td>0.719321</td>\n",
       "      <td>0.755260</td>\n",
       "      <td>0.031882</td>\n",
       "      <td>0.126579</td>\n",
       "      <td>-0.032753</td>\n",
       "      <td>0.265442</td>\n",
       "      <td>0.238194</td>\n",
       "      <td>0.215993</td>\n",
       "      <td>0.213035</td>\n",
       "    </tr>\n",
       "    <tr>\n",
       "      <th>238</th>\n",
       "      <td>-0.181662</td>\n",
       "      <td>-0.189832</td>\n",
       "      <td>-0.134762</td>\n",
       "      <td>-0.173888</td>\n",
       "      <td>-0.154700</td>\n",
       "      <td>-0.207710</td>\n",
       "      <td>-0.189259</td>\n",
       "      <td>-0.209015</td>\n",
       "      <td>-0.234690</td>\n",
       "      <td>-0.187752</td>\n",
       "      <td>...</td>\n",
       "      <td>-0.096997</td>\n",
       "      <td>0.044708</td>\n",
       "      <td>-0.001639</td>\n",
       "      <td>-0.212580</td>\n",
       "      <td>-0.228713</td>\n",
       "      <td>-0.184945</td>\n",
       "      <td>-0.208943</td>\n",
       "      <td>-0.209122</td>\n",
       "      <td>-0.186034</td>\n",
       "      <td>-0.233351</td>\n",
       "    </tr>\n",
       "  </tbody>\n",
       "</table>\n",
       "<p>4 rows × 150 columns</p>\n",
       "</div>"
      ],
      "text/plain": [
       "          0         1         2         3         4         5         6    \\\n",
       "102  0.110791  0.086170 -0.046230 -0.094587 -0.083420 -0.107110 -0.096191   \n",
       "105 -0.106384 -0.108427 -0.093335 -0.105852 -0.094091 -0.117614 -0.105852   \n",
       "196  0.220900  0.156862 -0.012944 -0.042861  0.036267 -0.038536  0.110673   \n",
       "238 -0.181662 -0.189832 -0.134762 -0.173888 -0.154700 -0.207710 -0.189259   \n",
       "\n",
       "          7         8         9    ...       140       141       142  \\\n",
       "102 -0.096778 -0.108937 -0.086510  ... -0.000804 -0.008777 -0.009404   \n",
       "105 -0.105852 -0.117614 -0.094091  ... -0.083023 -0.015469 -0.054412   \n",
       "196  0.126543  0.009540 -0.009306  ...  0.663735  0.719321  0.755260   \n",
       "238 -0.209015 -0.234690 -0.187752  ... -0.096997  0.044708 -0.001639   \n",
       "\n",
       "          143       144       145       146       147       148       149  \n",
       "102  0.013813 -0.029628 -0.075166 -0.074135 -0.076159 -0.067491  0.106152  \n",
       "105 -0.058641 -0.077434 -0.070388 -0.085897 -0.087204 -0.078301 -0.104756  \n",
       "196  0.031882  0.126579 -0.032753  0.265442  0.238194  0.215993  0.213035  \n",
       "238 -0.212580 -0.228713 -0.184945 -0.208943 -0.209122 -0.186034 -0.233351  \n",
       "\n",
       "[4 rows x 150 columns]"
      ]
     },
     "execution_count": 186,
     "metadata": {},
     "output_type": "execute_result"
    }
   ],
   "source": [
    "place_cell_activity_3"
   ]
  },
  {
   "cell_type": "code",
   "execution_count": 175,
   "metadata": {},
   "outputs": [
    {
     "data": {
      "text/plain": [
       "Index([2, 1, 3, 0], dtype='int64')"
      ]
     },
     "execution_count": 175,
     "metadata": {},
     "output_type": "execute_result"
    }
   ],
   "source": [
    "new_indices"
   ]
  },
  {
   "cell_type": "code",
   "execution_count": 188,
   "metadata": {},
   "outputs": [
    {
     "data": {
      "text/html": [
       "<div>\n",
       "<style scoped>\n",
       "    .dataframe tbody tr th:only-of-type {\n",
       "        vertical-align: middle;\n",
       "    }\n",
       "\n",
       "    .dataframe tbody tr th {\n",
       "        vertical-align: top;\n",
       "    }\n",
       "\n",
       "    .dataframe thead th {\n",
       "        text-align: right;\n",
       "    }\n",
       "</style>\n",
       "<table border=\"1\" class=\"dataframe\">\n",
       "  <thead>\n",
       "    <tr style=\"text-align: right;\">\n",
       "      <th></th>\n",
       "      <th>0</th>\n",
       "      <th>1</th>\n",
       "      <th>2</th>\n",
       "      <th>3</th>\n",
       "      <th>4</th>\n",
       "      <th>5</th>\n",
       "      <th>6</th>\n",
       "      <th>7</th>\n",
       "      <th>8</th>\n",
       "      <th>9</th>\n",
       "      <th>...</th>\n",
       "      <th>140</th>\n",
       "      <th>141</th>\n",
       "      <th>142</th>\n",
       "      <th>143</th>\n",
       "      <th>144</th>\n",
       "      <th>145</th>\n",
       "      <th>146</th>\n",
       "      <th>147</th>\n",
       "      <th>148</th>\n",
       "      <th>149</th>\n",
       "    </tr>\n",
       "  </thead>\n",
       "  <tbody>\n",
       "    <tr>\n",
       "      <th>235</th>\n",
       "      <td>NaN</td>\n",
       "      <td>NaN</td>\n",
       "      <td>NaN</td>\n",
       "      <td>NaN</td>\n",
       "      <td>NaN</td>\n",
       "      <td>NaN</td>\n",
       "      <td>NaN</td>\n",
       "      <td>NaN</td>\n",
       "      <td>NaN</td>\n",
       "      <td>NaN</td>\n",
       "      <td>...</td>\n",
       "      <td>NaN</td>\n",
       "      <td>NaN</td>\n",
       "      <td>NaN</td>\n",
       "      <td>NaN</td>\n",
       "      <td>NaN</td>\n",
       "      <td>NaN</td>\n",
       "      <td>NaN</td>\n",
       "      <td>NaN</td>\n",
       "      <td>NaN</td>\n",
       "      <td>NaN</td>\n",
       "    </tr>\n",
       "    <tr>\n",
       "      <th>98</th>\n",
       "      <td>NaN</td>\n",
       "      <td>NaN</td>\n",
       "      <td>NaN</td>\n",
       "      <td>NaN</td>\n",
       "      <td>NaN</td>\n",
       "      <td>NaN</td>\n",
       "      <td>NaN</td>\n",
       "      <td>NaN</td>\n",
       "      <td>NaN</td>\n",
       "      <td>NaN</td>\n",
       "      <td>...</td>\n",
       "      <td>NaN</td>\n",
       "      <td>NaN</td>\n",
       "      <td>NaN</td>\n",
       "      <td>NaN</td>\n",
       "      <td>NaN</td>\n",
       "      <td>NaN</td>\n",
       "      <td>NaN</td>\n",
       "      <td>NaN</td>\n",
       "      <td>NaN</td>\n",
       "      <td>NaN</td>\n",
       "    </tr>\n",
       "    <tr>\n",
       "      <th>64</th>\n",
       "      <td>NaN</td>\n",
       "      <td>NaN</td>\n",
       "      <td>NaN</td>\n",
       "      <td>NaN</td>\n",
       "      <td>NaN</td>\n",
       "      <td>NaN</td>\n",
       "      <td>NaN</td>\n",
       "      <td>NaN</td>\n",
       "      <td>NaN</td>\n",
       "      <td>NaN</td>\n",
       "      <td>...</td>\n",
       "      <td>NaN</td>\n",
       "      <td>NaN</td>\n",
       "      <td>NaN</td>\n",
       "      <td>NaN</td>\n",
       "      <td>NaN</td>\n",
       "      <td>NaN</td>\n",
       "      <td>NaN</td>\n",
       "      <td>NaN</td>\n",
       "      <td>NaN</td>\n",
       "      <td>NaN</td>\n",
       "    </tr>\n",
       "    <tr>\n",
       "      <th>93</th>\n",
       "      <td>NaN</td>\n",
       "      <td>NaN</td>\n",
       "      <td>NaN</td>\n",
       "      <td>NaN</td>\n",
       "      <td>NaN</td>\n",
       "      <td>NaN</td>\n",
       "      <td>NaN</td>\n",
       "      <td>NaN</td>\n",
       "      <td>NaN</td>\n",
       "      <td>NaN</td>\n",
       "      <td>...</td>\n",
       "      <td>NaN</td>\n",
       "      <td>NaN</td>\n",
       "      <td>NaN</td>\n",
       "      <td>NaN</td>\n",
       "      <td>NaN</td>\n",
       "      <td>NaN</td>\n",
       "      <td>NaN</td>\n",
       "      <td>NaN</td>\n",
       "      <td>NaN</td>\n",
       "      <td>NaN</td>\n",
       "    </tr>\n",
       "  </tbody>\n",
       "</table>\n",
       "<p>4 rows × 150 columns</p>\n",
       "</div>"
      ],
      "text/plain": [
       "     0    1    2    3    4    5    6    7    8    9    ...  140  141  142  \\\n",
       "235  NaN  NaN  NaN  NaN  NaN  NaN  NaN  NaN  NaN  NaN  ...  NaN  NaN  NaN   \n",
       "98   NaN  NaN  NaN  NaN  NaN  NaN  NaN  NaN  NaN  NaN  ...  NaN  NaN  NaN   \n",
       "64   NaN  NaN  NaN  NaN  NaN  NaN  NaN  NaN  NaN  NaN  ...  NaN  NaN  NaN   \n",
       "93   NaN  NaN  NaN  NaN  NaN  NaN  NaN  NaN  NaN  NaN  ...  NaN  NaN  NaN   \n",
       "\n",
       "     143  144  145  146  147  148  149  \n",
       "235  NaN  NaN  NaN  NaN  NaN  NaN  NaN  \n",
       "98   NaN  NaN  NaN  NaN  NaN  NaN  NaN  \n",
       "64   NaN  NaN  NaN  NaN  NaN  NaN  NaN  \n",
       "93   NaN  NaN  NaN  NaN  NaN  NaN  NaN  \n",
       "\n",
       "[4 rows x 150 columns]"
      ]
     },
     "execution_count": 188,
     "metadata": {},
     "output_type": "execute_result"
    }
   ],
   "source": [
    "place_cell_activity_3.reindex(index=index_pc_day_2.astype(int))"
   ]
  },
  {
   "cell_type": "code",
   "execution_count": 149,
   "metadata": {},
   "outputs": [
    {
     "data": {
      "text/plain": [
       "<Axes: >"
      ]
     },
     "execution_count": 149,
     "metadata": {},
     "output_type": "execute_result"
    },
    {
     "data": {
      "image/png": "[encoded data removed]",
      "text/plain": [
       "<Figure size 640x480 with 2 Axes>"
      ]
     },
     "metadata": {},
     "output_type": "display_data"
    }
   ],
   "source": [
    "sns.heatmap(place_cell_activity,cmap='viridis')"
   ]
  },
  {
   "cell_type": "code",
   "execution_count": 138,
   "metadata": {},
   "outputs": [
    {
     "data": {
      "text/plain": [
       "0     -0.103600\n",
       "1      0.050562\n",
       "2      0.277733\n",
       "3      0.107494\n",
       "4     -0.212416\n",
       "         ...   \n",
       "145    0.189913\n",
       "146    0.093457\n",
       "147    0.065574\n",
       "148    0.047429\n",
       "149   -0.066386\n",
       "Name: 2, Length: 150, dtype: float64"
      ]
     },
     "execution_count": 138,
     "metadata": {},
     "output_type": "execute_result"
    }
   ],
   "source": [
    "avr_fir_rate_map_day_2.iloc[2,:]"
   ]
  },
  {
   "cell_type": "code",
   "execution_count": null,
   "metadata": {},
   "outputs": [],
   "source": []
  },
  {
   "cell_type": "code",
   "execution_count": 90,
   "metadata": {},
   "outputs": [],
   "source": []
  },
  {
   "cell_type": "code",
   "execution_count": 80,
   "metadata": {},
   "outputs": [
    {
     "data": {
      "text/plain": [
       "(array([ 22.,  71.,  72.,  77.,  79.,  82., 121., 127., 196., 197., 268.]),\n",
       " array([ 22.,  30.,  83.,  85., 116., 180., 183., 193., 196., 207.]))"
      ]
     },
     "execution_count": 80,
     "metadata": {},
     "output_type": "execute_result"
    }
   ],
   "source": [
    "cr_pc=np.where"
   ]
  },
  {
   "cell_type": "markdown",
   "metadata": {},
   "source": [
    "The function returns 3 variables for further analysis:\n",
    "- `spatial_union`: csc_matrix (# pixels X # total distinct components), the union of all ROIs across all sessions aligned to the FOV of the last session.\n",
    "- `assignments`: ndarray (# total distinct components X # sessions). `assignments[i,j]=k` means that component `k` from session `j` has been identified as component `i` from the union of all components, otherwise it takes a `NaN` value. Note that for each `i` there is at least one session index `j` where `assignments[i,j]!=NaN`.\n",
    "- `matchings`: list of (# sessions) lists. Saves `spatial_union` indices of individual components in each session. `matchings[j][k] = i` means that component `k` from session `j` is represented by component `i` in the union of all components `spatial_union`. In other words `assignments[matchings[j][k], j] = j`."
   ]
  },
  {
   "cell_type": "markdown",
   "metadata": {},
   "source": [
    "## Post-alignment screening\n",
    "\n",
    "The three outputs can be used to filter components in various ways. For example we can find the components that were active in at least a given a number of sessions. For more examples, check [this script](https://github.com/flatironinstitute/CaImAn/blob/master/use_cases/eLife_scripts/figure_9/Figure_9_alignment.py) that reproduces the results of [Figure 9, as presented in our eLife paper](https://elifesciences.org/articles/38173#fig9)."
   ]
  },
  {
   "cell_type": "code",
   "execution_count": null,
   "metadata": {},
   "outputs": [],
   "source": [
    "# Filter components by number of sessions the component could be found\n",
    "\n",
    "n_reg = 6  # minimal number of sessions that each component has to be registered in\n",
    "\n",
    "# Use number of non-NaNs in each row to filter out components that were not registered in enough sessions\n",
    "assignments_filtered = np.array(np.nan_to_num(assignments[np.sum(~np.isnan(assignments), axis=1) >= n_reg]), dtype=int);\n",
    "\n",
    "# Use filtered indices to select the corresponding spatial components\n",
    "spatial_filtered = spatial[0][:, assignments_filtered[:, 0]]\n",
    "\n",
    "# Plot spatial components of the selected components on the template of the last session\n",
    "visualization.plot_contours(spatial_filtered, templates[-1]);"
   ]
  },
  {
   "cell_type": "markdown",
   "metadata": {},
   "source": [
    "## Combining data of components over multiple sessions (optional)\n",
    "\n",
    "Now that all sessions are aligned and we have a list of re-registered neurons, we can use `assignments` and `matchings` to collect traces from neurons over different sessions.\n",
    "\n",
    "As an exercise, we can collect the traces of all neurons that were registered in all sessions. We already gathered the indices of these neurons in the previous cell in `assignments_filtered`. Assuming that traces of each session are saved in their own `CNMF` object collected in a list, we can iterate through `assignments_filtered` and use these indices to find the re-registered neurons in every session.\n",
    "\n",
    "Note: This notebook does not include the traces of the extracted neurons, only their spatial components. As such the loop below will produce an error if you uncomment it. However, it demonstrates how to use the results of the registration to in your own analysis to extract the traces of the same neurons across different sessions."
   ]
  },
  {
   "cell_type": "code",
   "execution_count": null,
   "metadata": {},
   "outputs": [],
   "source": [
    "# traces = np.zeros(assignments_filtered.shape, dtype=np.ndarray)\n",
    "# for i in range(traces.shape[0]):\n",
    "#     for j in range(traces.shape[1]):\n",
    "#         traces[i,j] = cnm_list[j].estimates.C[int(assignments_filtered[i,j])]"
   ]
  },
  {
   "cell_type": "markdown",
   "metadata": {},
   "source": [
    "Now we have the array `traces`, where element `traces[i,j] = k` is the temporal component of neuron `i` at session `j`. This can be performed with `F_dff` data or `S` spikes as well."
   ]
  }
 ],
 "metadata": {
  "kernelspec": {
   "display_name": "Python 3 (ipykernel)",
   "language": "python",
   "name": "python3"
  },
  "language_info": {
   "codemirror_mode": {
    "name": "ipython",
    "version": 3
   },
   "file_extension": ".py",
   "mimetype": "text/x-python",
   "name": "python",
   "nbconvert_exporter": "python",
   "pygments_lexer": "ipython3",
   "version": "3.10.8"
  }
 },
 "nbformat": 4,
 "nbformat_minor": 2
}
