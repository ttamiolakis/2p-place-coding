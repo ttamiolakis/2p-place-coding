{
 "cells": [
  {
   "cell_type": "markdown",
   "metadata": {},
   "source": [
    "# Multisession registration with CaImAn\n",
    "\n",
    "This notebook will help to demonstrate how to use CaImAn on movies recorded in multiple sessions. CaImAn has in-built functions that align movies from two or more sessions and try to recognize components that are imaged in some or all of these recordings.\n",
    "\n",
    "The basic function for this is `caiman.base.rois.register_ROIs()`. It takes two sets of spatial components and finds components present in both using an intersection over union metric and the Hungarian algorithm for optimal matching.\n",
    "`caiman.base.rois.register_multisession()` takes a list of spatial components, aligns sessions 1 and 2, keeps the union of the matched and unmatched components to register it with session 3 and so on."
   ]
  },
  {
   "cell_type": "code",
   "execution_count": 1,
   "metadata": {},
   "outputs": [],
   "source": [
    "from IPython import get_ipython\n",
    "from matplotlib import pyplot as plt\n",
    "import numpy as np\n",
    "import pickle\n",
    "import h5py\n",
    "import glob\n",
    "import pims_nd2\n",
    "import pandas as pd\n",
    "from collections import OrderedDict\n",
    "import plotly.graph_objects as go\n",
    "import plotly.io as pio\n",
    "import seaborn as sns\n",
    "\n",
    "from caiman.base.rois import register_multisession\n",
    "from caiman.utils import visualization\n",
    "from caiman.source_extraction.cnmf import cnmf as cnmf\n",
    "from caiman.utils.utils import download_demo\n",
    "\n",
    "import sys\n",
    "sys.path.append('..')\n",
    "from placecode.cross_registration_functions import CellTrackingMultipleAnimals as celltrack\n",
    "\n",
    "\n",
    "try:\n",
    "    if __IPYTHON__:\n",
    "        get_ipython().run_line_magic('load_ext', 'autoreload')\n",
    "        get_ipython().run_line_magic('autoreload', '2')\n",
    "except NameError:\n",
    "    pass"
   ]
  },
  {
   "cell_type": "markdown",
   "metadata": {},
   "source": [
    "loading the files and trying to make everything automatic\n",
    "running multiple conditions per multiple animals"
   ]
  },
  {
   "cell_type": "code",
   "execution_count": 2,
   "metadata": {},
   "outputs": [],
   "source": [
    "animals=['OPI2342','OPI2356']\n",
    "conditions=['bl_d1','bl_d2','24h_post']"
   ]
  },
  {
   "cell_type": "markdown",
   "metadata": {},
   "source": [
    "Initializing the necessary files for cross registration"
   ]
  },
  {
   "cell_type": "code",
   "execution_count": 3,
   "metadata": {},
   "outputs": [
    {
     "name": "stderr",
     "output_type": "stream",
     "text": [
      "c:\\Users\\ttami\\anaconda3\\envs\\caiman\\lib\\site-packages\\pims\\base_frames.py:478: UserWarning: Please call FramesSequenceND.__init__() at the start of thethe reader initialization.\n",
      "  warn(\"Please call FramesSequenceND.__init__() at the start of the\"\n"
     ]
    }
   ],
   "source": [
    "files_list=OrderedDict()\n",
    "templates_list=OrderedDict()\n",
    "cnmf_list=OrderedDict()\n",
    "spatials=OrderedDict()\n",
    "dims=OrderedDict()\n",
    "assignments=OrderedDict()\n",
    "cr_reg_cells=OrderedDict()\n",
    "cr_reg_cells_df=OrderedDict()\n",
    "\n",
    "for animal in animals:      \n",
    "\n",
    "    # Load multisession data (spatial components and mean intensity templates) (should be replaced by actual data)\n",
    "    home_folder=f'D:/sd_project_pbox/exported_data/{animal}/'\n",
    "    raw_data_folder=f'D:/sd_project_pbox/raw_data/{animal}'\n",
    "    output_folder=f'D:/sd_project_pbox/results/{animal}/'\n",
    "\n",
    "    files_list[animal]=[]\n",
    "    templates_list[animal]=[]\n",
    "    cnmf_list[animal]=[]\n",
    "    spatials[animal]=[]\n",
    "    dims[animal]=[]\n",
    "    assignments[animal]=[]\n",
    "    cr_reg_cells[animal]=[]\n",
    "    cr_reg_cells_df[animal]=[]\n",
    "# spatials=[cnmf_1.estimates.A,cnmf_2.estimates.A,cnmf_3.estimates.A]\n",
    "# dims=cnmf_1.dims\n",
    "\n",
    "    for condition in conditions:\n",
    "\n",
    "        #finding file paths\n",
    "        fpath= glob.glob(f\"{home_folder}/{animal}_{condition}/*.hdf5\")[0]\n",
    "        files_list[animal].append(fpath)\n",
    "\n",
    "        #sstoring cnfs\n",
    "        cnmf_ind=cnmf.load_CNMF(fpath,'r')\n",
    "        cnmf_list[animal].append(cnmf_ind)\n",
    "        #sotring spatial components\n",
    "        spatial=cnmf_ind.estimates.A\n",
    "        spatials[animal].append(spatial)\n",
    "        #storing dims\n",
    "        dim=cnmf_ind.dims\n",
    "        dims[animal].append(dim)\n",
    "\n",
    "        #template paths\n",
    "        template_path=glob.glob(f\"{raw_data_folder}/*{condition}/*.nd2\")[0]\n",
    "        nikon_movie=pims_nd2.ND2_Reader(template_path)\n",
    "        template=np.mean(nikon_movie[:600],axis=0)\n",
    "        templates_list[animal].append(template)\n"
   ]
  },
  {
   "cell_type": "markdown",
   "metadata": {},
   "source": [
    "## Use `register_multisession()`\n",
    "\n",
    "The function `register_multisession()` requires 3 arguments:\n",
    "- `A`: A list of ndarrays or scipy.sparse.csc matrices with (# pixels X # component ROIs) for each session\n",
    "- `dims`: Dimensions of the FOV, needed to restore spatial components to a 2D image\n",
    "- `templates`: List of ndarray matrices of size `dims`, template image of each session"
   ]
  },
  {
   "cell_type": "code",
   "execution_count": 4,
   "metadata": {},
   "outputs": [
    {
     "name": "stderr",
     "output_type": "stream",
     "text": [
      "c:\\Users\\ttami\\anaconda3\\envs\\caiman\\lib\\site-packages\\scipy\\sparse\\_index.py:151: SparseEfficiencyWarning: Changing the sparsity structure of a csc_matrix is expensive. lil_matrix is more efficient.\n",
      "  self._set_arrayXarray(i, j, x)\n"
     ]
    }
   ],
   "source": [
    "for animal in animals:\n",
    "    spatial_union, assignments_per_animal, matchings = register_multisession(A=spatials[animal], dims=dims[animal][0])\n",
    "    assignments[animal]=assignments_per_animal\n"
   ]
  },
  {
   "cell_type": "markdown",
   "metadata": {},
   "source": [
    "FInd the rows where there are no NaN values. Meaning find cells that are cross registered across all conditions"
   ]
  },
  {
   "cell_type": "code",
   "execution_count": 5,
   "metadata": {},
   "outputs": [],
   "source": [
    "# Find the rows where there are no NaN values\n",
    "#meaning where are the cells in all of the days\n",
    "\n",
    "for animal in animals:    \n",
    "    cr_reg_cells[animal] = assignments[animal][~np.isnan(assignments[animal]).any(axis=1)].astype(int)\n",
    "    cr_reg_cells_df[animal]=pd.DataFrame(data=cr_reg_cells[animal],columns=conditions)\n"
   ]
  },
  {
   "cell_type": "markdown",
   "metadata": {},
   "source": [
    "indetifying and storing silent sells, place cells and non place so that I can study the transition after"
   ]
  },
  {
   "cell_type": "code",
   "execution_count": 6,
   "metadata": {},
   "outputs": [],
   "source": [
    "#first store the place cells somewhere\n",
    "pc_cells=OrderedDict()\n",
    "non_pc_cells=OrderedDict()\n",
    "silent_cells=OrderedDict()\n",
    "\n",
    "for animal in animals:\n",
    "    output_file=f\"D:/sd_project_pbox/results/{animal}\"\n",
    "\n",
    "\n",
    "    for condition in conditions:\n",
    "        pc_cells[f'{animal}_{condition}']=[]\n",
    "        non_pc_cells[f'{animal}_{condition}']=[]\n",
    "        silent_cells[f'{animal}_{condition}']=[]\n",
    "\n",
    "        #appending place cells\n",
    "        pc_cells_per_day=h5py.File(f'{output_file}/{condition}/output_info.h5')['place_cells_tuned_vector']\n",
    "        pc_cells_per_day=np.array(pc_cells_per_day)\n",
    "        pc_cells[f'{animal}_{condition}'].append(pc_cells_per_day)\n",
    "\n",
    "        #appending non place cells\n",
    "        non_pc_cells_per_day=h5py.File(f'{output_file}/{condition}/output_info.h5')['non_place_cells_tuned_vector']\n",
    "        non_pc_cells_per_day=np.array(non_pc_cells_per_day)\n",
    "        non_pc_cells[f'{animal}_{condition}'].append(non_pc_cells_per_day)\n",
    "\n",
    "        #appending silent cells\n",
    "        silent_cells_per_day=h5py.File(f'{output_file}/{condition}/output_info.h5')['silent_cells']\n",
    "        silent_cells_per_day=np.array(silent_cells_per_day)\n",
    "        silent_cells[f'{animal}_{condition}'].append(silent_cells_per_day)\n"
   ]
  },
  {
   "cell_type": "markdown",
   "metadata": {},
   "source": [
    "Making the sankey diagram for all mice and all conditions. this shows how cells alternate roles in all three conditions"
   ]
  },
  {
   "cell_type": "code",
   "execution_count": 39,
   "metadata": {},
   "outputs": [],
   "source": [
    "labels = [] \n",
    "colors = []\n",
    "for condition in conditions:\n",
    "  labels.extend([f\"PC {condition}\", f\"nPC {condition}\", f\"sil {condition}\"])  # for each condition, check categories PC, not-PC and low activity\n",
    "  colors.extend([\"red\", \"blue\", \"grey\"])  # 255, 0, 0;  0, 255, 0; 0, 0, 0\n",
    "# in each condition, we have PC and nPC categories, each have PC and nPC targets in the next category\n",
    "sources = []  # should be 0, 1, 2, 0, 1, 2, 0, 1, 2, 3, 4, 5, 3, 4, 5, 3, 4, 5, ...\n",
    "targets = []  # should be 3, 3, 3, 4, 4, 4, 5, 5, 5, 6, 6, 6, 7, 7, 7, 8, 8, 8, ...\n",
    "values = []\n",
    "link_colors = []\n",
    "#initlaiizng zero for all the values so that I can add numbers for individual animals\n",
    "#I have to make ordered dictionary again. I will name them based on the source condition\n",
    "n_PC_to_PC=OrderedDict()\n",
    "n_non_PC_to_PC=OrderedDict()\n",
    "n_sil_to_PC=OrderedDict()\n",
    "n_PC_to_non_PC=OrderedDict()\n",
    "n_sil_to_non_PC=OrderedDict()\n",
    "n_non_PC_to_non_PC=OrderedDict()\n",
    "n_PC_to_sil=OrderedDict()\n",
    "n_non_PC_to_sil=OrderedDict()\n",
    "n_sil_to_sil=OrderedDict()\n",
    "\n",
    "for condition in conditions[:-1]:\n",
    "  n_PC_to_PC[condition]=0\n",
    "  n_non_PC_to_PC[condition]=0\n",
    "  n_sil_to_PC[condition]=0\n",
    "  n_PC_to_non_PC[condition]=0\n",
    "  n_sil_to_non_PC[condition]=0\n",
    "  n_non_PC_to_non_PC[condition]=0\n",
    "  n_PC_to_sil[condition]=0\n",
    "  n_non_PC_to_sil[condition]=0\n",
    "  n_sil_to_sil[condition]=0\n",
    "\n",
    "\n",
    "for animal in animals:\n",
    "\n",
    "  df=cr_reg_cells_df[animal]\n",
    "  for i_condition,condition in enumerate(conditions[:-1]):\n",
    "\n",
    "    #target cells place cells\n",
    "    n_PC_to_PC[condition]+=len(celltrack.cell_movement(df,animal,conditions[i_condition],conditions[i_condition+1],source_type=pc_cells,target_type=pc_cells))\n",
    "    n_non_PC_to_PC[condition]+=len(celltrack.cell_movement(df,animal,conditions[i_condition],conditions[i_condition+1],source_type=non_pc_cells,target_type=pc_cells))\n",
    "    n_sil_to_PC[condition]+=len(celltrack.cell_movement(df,animal,conditions[i_condition],conditions[i_condition+1],source_type=silent_cells,target_type=pc_cells))\n",
    "    if animal ==animals[-1]:    \n",
    "      sources.extend([3*i_condition,3*i_condition+1, 3*i_condition+2])\n",
    "      targets.extend([3*(i_condition+1), 3*(i_condition+1), 3*(i_condition+1)])\n",
    "      values.extend([n_PC_to_PC[condition], n_non_PC_to_PC[condition], n_sil_to_PC[condition]])\n",
    "      link_colors.extend([\"rgba(255, 0, 0, 0.4)\", \"rgba(0, 0, 255, 0.4)\", \"rgba(0, 0, 0, 0.4)\"])  # PC -> x is light blue, nPC -> x is light red, Q -> y is \"light black\"\n",
    "\n",
    "    #target cells non place cells\n",
    "    n_PC_to_non_PC[condition]+=len(celltrack.cell_movement(df,animal,conditions[i_condition],conditions[i_condition+1],source_type=pc_cells,target_type=non_pc_cells))\n",
    "    n_sil_to_non_PC[condition]+=len(celltrack.cell_movement(df,animal,conditions[i_condition],conditions[i_condition+1],source_type=silent_cells,target_type=non_pc_cells))\n",
    "    n_non_PC_to_non_PC[condition]+=len(celltrack.cell_movement(df,animal,conditions[i_condition],conditions[i_condition+1],source_type=non_pc_cells,target_type=non_pc_cells))\n",
    "    if animal ==animals[-1]:  \n",
    "      sources.extend([3*i_condition,3*i_condition+1, 3*i_condition+2])\n",
    "      targets.extend([3*(i_condition+1)+1, 3*(i_condition+1)+1, 3*(i_condition+1)+1])\n",
    "      values.extend([n_PC_to_non_PC[condition], n_non_PC_to_non_PC[condition], n_sil_to_non_PC[condition]])\n",
    "      link_colors.extend([\"rgba(255, 0, 0, 0.4)\", \"rgba(0, 0, 255, 0.4)\", \"rgba(0, 0, 0, 0.4)\"])  # PC -> x is light blue, nPC -> x is light red, Q -> y is \"light black\"\n",
    "\n",
    "    #targer cell silent cells  \n",
    "    n_PC_to_sil[condition]+=len(celltrack.cell_movement(df,animal,conditions[i_condition],conditions[i_condition+1],source_type=pc_cells,target_type=silent_cells))\n",
    "    n_non_PC_to_sil[condition]+=len(celltrack.cell_movement(df,animal,conditions[i_condition],conditions[i_condition+1],source_type=non_pc_cells,target_type=silent_cells))\n",
    "    n_sil_to_sil[condition]+=len(celltrack.cell_movement(df,animal,conditions[i_condition],conditions[i_condition+1],source_type=silent_cells,target_type=silent_cells))\n",
    "    if animal ==animals[-1]:  \n",
    "      sources.extend([3*i_condition,3*i_condition+1, 3*i_condition+2])\n",
    "      targets.extend([3*(i_condition+1)+2, 3*(i_condition+1)+2, 3*(i_condition+1)+2])\n",
    "      values.extend([n_PC_to_sil[condition], n_non_PC_to_sil[condition], n_sil_to_sil[condition]])\n",
    "      link_colors.extend([\"rgba(255, 0, 0, 0.4)\", \"rgba(0, 0, 255, 0.4)\", \"rgba(0, 0, 0, 0.4)\"])  # PC -> x is light blue, nPC -> x is light red, Q -> y is \"light black\"\n",
    "  \n",
    "fig = go.Figure(data=[go.Sankey(\n",
    "  node = dict(\n",
    "    pad = 15,\n",
    "    thickness = 20,\n",
    "    line = dict(color = \"black\", width = 0.5),\n",
    "    label = labels,\n",
    "    color = colors\n",
    "  ),\n",
    "  link = dict(\n",
    "    source = sources, # indices correspond to labels, eg A1, A2, A1, B1, ...\n",
    "    target = targets,\n",
    "    value = values,\n",
    "    color = link_colors\n",
    "))])\n",
    "\n",
    "fig.update_layout(title_text=f'Multianimal session tracking\\n{animals}\\n\\n{conditions}', font_size=10)\n",
    "fig.write_html(f'D:/sd_project_pbox/results/multiple_animals/cross_registration/{animals}_{conditions}.html')\n",
    "\n",
    "#pio.write_image(fig, F'{output_folder}/{animal}_sankey_diagram.pdf')\n",
    "\n"
   ]
  },
  {
   "cell_type": "code",
   "execution_count": null,
   "metadata": {},
   "outputs": [],
   "source": [
    "\n",
    "sessions=conditions #all of them\n",
    "sessions=['baseline_d1','baseline_d2']\n",
    "sessions=['baseline_d2','24hrs_post_SD']\n",
    "#sessions=conditions\n",
    "\n",
    "# Example usage for two sessions:\n",
    "filtered_df = filter_cross_registered_place_cells(df, sessions, pc_cells)\n"
   ]
  },
  {
   "cell_type": "code",
   "execution_count": null,
   "metadata": {},
   "outputs": [],
   "source": [
    "#indetify only the cross registered place cells in each of the recordings\n",
    "fr_rate_maps_to_compare=OrderedDict()\n",
    "\n",
    "for session in sessions:\n",
    "    fr_rate_maps_to_compare[session]=[]\n",
    "\n",
    "for session in sessions:\n",
    "    avr_fr_rate_map=h5py.File(f'{output_folder}/{session}/output_info.h5')['avr_firing_rate_maps']\n",
    "    avr_fr_rate_map=pd.DataFrame(avr_fr_rate_map)\n",
    "    cr_reg_cells_values=filtered_df[session].values\n",
    "    avr_fr_rate_map=avr_fr_rate_map.iloc[cr_reg_cells_values]\n",
    "    fr_rate_maps_to_compare[session]=avr_fr_rate_map\n",
    "\n"
   ]
  },
  {
   "cell_type": "code",
   "execution_count": null,
   "metadata": {},
   "outputs": [],
   "source": [
    "#plotting the original place cell coding diagrams\n",
    "\n",
    "sel_fontize=20\n",
    "\n",
    "fig,ax=plt.subplots(2,len(sessions),figsize=(20,20))\n",
    "fig.suptitle(f'{animal}\\ncross registered place cells\\n comparison{sessions}\\n Up Original sorting\\nBelow sorted to {sessions[0]}',fontsize=sel_fontize+5)\n",
    "                    \n",
    "custom_ticks = [0, 50, 100, 150]  # Specify the positions where you want the ticks\n",
    "custom_labels = ['0', '50', '100', '150']  \n",
    "\n",
    "for i,session in enumerate(sessions):\n",
    "    place_cell_activity=fr_rate_maps_to_compare[session]\n",
    "    place_cell_indexes_max=np.argmax(place_cell_activity,axis=1) #finding the place of the max activity of every cell\n",
    "    place_cell_indexed_filtered=place_cell_activity.apply(np.argmax, axis=1).sort_values().index #there are the new indexes of the place cells just so thez can form the nice place cell diagram\n",
    "    transpose=place_cell_indexed_filtered\n",
    "    place_cell_activity=place_cell_activity.reindex(index=transpose) #reindexing the place cell panda frame according to the max activitz and the position in the belt\n",
    "\n",
    "\n",
    "    sns.heatmap(place_cell_activity,ax=ax[0,i],cmap='viridis',cbar=False)#,vmax=4)\n",
    "    if i==0:\n",
    "        ax[0,i].set_ylabel('cross registered place cells',fontsize=sel_fontize)\n",
    "    else:\n",
    "        ax[0,i].set_ylabel('')\n",
    "    ax[0,i].set_xlabel('')\n",
    "    ax[0,i].set_yticks([])\n",
    "    ax[0,i].set_yticklabels([])\n",
    "    ax[0,i].set_title(session,fontsize=sel_fontize)\n",
    "    ax[0,i].set_xticks([])\n",
    "    ax[0,i].set_xticklabels([])\n",
    "\n",
    "#plotting place coding diagram transposed on the first one\n",
    "\n",
    "place_cell_activity=fr_rate_maps_to_compare[sessions[0]].reset_index(drop=True)\n",
    "place_cell_indexes_max=np.argmax(place_cell_activity,axis=1) #finding the place of the max activity of every cell\n",
    "place_cell_indexed_filtered=place_cell_activity.apply(np.argmax, axis=1).sort_values().index \n",
    "transpose=place_cell_indexed_filtered\n",
    "\n",
    "for i,session in enumerate(sessions):\n",
    "    place_cell_activity=fr_rate_maps_to_compare[session].reset_index(drop=True)\n",
    "    place_cell_activity=place_cell_activity.reindex(index=transpose) #reindexing the place cell panda frame according to the max activitz and the position in the belt\n",
    "\n",
    "    sns.heatmap(place_cell_activity,ax=ax[1,i],cmap='viridis',cbar=False)\n",
    "    if i==0:\n",
    "        ax[1,i].set_ylabel('cross registered place cells',fontsize=sel_fontize)\n",
    "    else:\n",
    "        ax[1,i].set_ylabel('')\n",
    "    ax[1,i].set_xlabel('Belt(cm)',fontsize=sel_fontize)\n",
    "    ax[1,i].set_yticks([])\n",
    "    ax[1,i].set_yticklabels([])\n",
    "    ax[1,i].set_xticks(custom_ticks)\n",
    "    ax[1,i].set_xticklabels(custom_labels,fontsize=sel_fontize)\n",
    "\n",
    "plt.tight_layout()\n",
    "\n",
    "plt.savefig(f'{output_folder}/cross_registration/{animal}_{sessions}_place_cells_comparison.png', format='png', dpi=300, bbox_inches='tight')\n",
    "plt.savefig(f'{output_folder}/cross_registration/{animal}_{sessions}_place_cells_comparison.pdf', format='pdf', dpi=300, bbox_inches='tight')"
   ]
  }
 ],
 "metadata": {
  "kernelspec": {
   "display_name": "Python 3 (ipykernel)",
   "language": "python",
   "name": "python3"
  },
  "language_info": {
   "codemirror_mode": {
    "name": "ipython",
    "version": 3
   },
   "file_extension": ".py",
   "mimetype": "text/x-python",
   "name": "python",
   "nbconvert_exporter": "python",
   "pygments_lexer": "ipython3",
   "version": "3.10.8"
  }
 },
 "nbformat": 4,
 "nbformat_minor": 2
}
