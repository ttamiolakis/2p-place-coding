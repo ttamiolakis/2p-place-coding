{
 "cells": [
  {
   "cell_type": "markdown",
   "metadata": {},
   "source": [
    "# Multisession registration with CaImAn\n",
    "\n",
    "This notebook will help to demonstrate how to use CaImAn on movies recorded in multiple sessions. CaImAn has in-built functions that align movies from two or more sessions and try to recognize components that are imaged in some or all of these recordings.\n",
    "\n",
    "The basic function for this is `caiman.base.rois.register_ROIs()`. It takes two sets of spatial components and finds components present in both using an intersection over union metric and the Hungarian algorithm for optimal matching.\n",
    "`caiman.base.rois.register_multisession()` takes a list of spatial components, aligns sessions 1 and 2, keeps the union of the matched and unmatched components to register it with session 3 and so on."
   ]
  },
  {
   "cell_type": "code",
   "execution_count": 44,
   "metadata": {},
   "outputs": [
    {
     "name": "stdout",
     "output_type": "stream",
     "text": [
      "The autoreload extension is already loaded. To reload it, use:\n",
      "  %reload_ext autoreload\n"
     ]
    }
   ],
   "source": [
    "from IPython import get_ipython\n",
    "from matplotlib import pyplot as plt\n",
    "import numpy as np\n",
    "import pickle\n",
    "import h5py\n",
    "import glob\n",
    "import pims_nd2\n",
    "import pandas as pd\n",
    "from collections import OrderedDict\n",
    "import plotly.graph_objects as go\n",
    "import plotly.io as pio\n",
    "import seaborn as sns\n",
    "\n",
    "from caiman.base.rois import register_multisession\n",
    "from caiman.utils import visualization\n",
    "from caiman.source_extraction.cnmf import cnmf as cnmf\n",
    "from caiman.utils.utils import download_demo\n",
    "\n",
    "import sys\n",
    "sys.path.append('..')\n",
    "from placecode.cross_registration_functions import CellTrackingMultipleAnimals as celltrack\n",
    "\n",
    "\n",
    "try:\n",
    "    if __IPYTHON__:\n",
    "        get_ipython().run_line_magic('load_ext', 'autoreload')\n",
    "        get_ipython().run_line_magic('autoreload', '2')\n",
    "except NameError:\n",
    "    pass"
   ]
  },
  {
   "cell_type": "markdown",
   "metadata": {},
   "source": [
    "loading the files and trying to make everything automatic"
   ]
  },
  {
   "cell_type": "code",
   "execution_count": 34,
   "metadata": {},
   "outputs": [],
   "source": [
    "animals=['OPI2342','OPI2356']\n",
    "conditions=['baseline_d1','baseline_d2','24hrs_post_SD']"
   ]
  },
  {
   "cell_type": "code",
   "execution_count": 35,
   "metadata": {},
   "outputs": [
    {
     "name": "stderr",
     "output_type": "stream",
     "text": [
      "c:\\Users\\ttami\\anaconda3\\envs\\caiman\\lib\\site-packages\\pims\\base_frames.py:478: UserWarning:\n",
      "\n",
      "Please call FramesSequenceND.__init__() at the start of thethe reader initialization.\n",
      "\n"
     ]
    }
   ],
   "source": [
    "files_list=OrderedDict()\n",
    "templates_list=OrderedDict()\n",
    "cnmf_list=OrderedDict()\n",
    "spatials=OrderedDict()\n",
    "dims=OrderedDict()\n",
    "assignments=OrderedDict()\n",
    "cr_reg_cells=OrderedDict()\n",
    "cr_reg_cells_df=OrderedDict()\n",
    "\n",
    "for animal in animals:      \n",
    "\n",
    "    # Load multisession data (spatial components and mean intensity templates) (should be replaced by actual data)\n",
    "    home_folder=f'D:/sd_project_pbox/exported_data/{animal}/'\n",
    "    raw_data_folder=f'D:/sd_project_pbox/raw_data/{animal}'\n",
    "    output_folder=f'D:/sd_project_pbox/results/{animal}/'\n",
    "\n",
    "    files_list[animal]=[]\n",
    "    templates_list[animal]=[]\n",
    "    cnmf_list[animal]=[]\n",
    "    spatials[animal]=[]\n",
    "    dims[animal]=[]\n",
    "    assignments[animal]=[]\n",
    "    cr_reg_cells[animal]=[]\n",
    "    cr_reg_cells_df[animal]=[]\n",
    "# spatials=[cnmf_1.estimates.A,cnmf_2.estimates.A,cnmf_3.estimates.A]\n",
    "# dims=cnmf_1.dims\n",
    "\n",
    "    for condition in conditions:\n",
    "\n",
    "        #finding file paths\n",
    "        fpath= glob.glob(f\"{home_folder}/{condition}/*.hdf5\")[0]\n",
    "        files_list[animal].append(fpath)\n",
    "\n",
    "        #sstoring cnfs\n",
    "        cnmf_ind=cnmf.load_CNMF(fpath,'r')\n",
    "        cnmf_list[animal].append(cnmf_ind)\n",
    "        #sotring spatial components\n",
    "        spatial=cnmf_ind.estimates.A\n",
    "        spatials[animal].append(spatial)\n",
    "        #storing dims\n",
    "        dim=cnmf_ind.dims\n",
    "        dims[animal].append(dim)\n",
    "\n",
    "        #template paths\n",
    "        template_path=glob.glob(f\"{raw_data_folder}/*{condition}/*.nd2\")[0]\n",
    "        nikon_movie=pims_nd2.ND2_Reader(template_path)\n",
    "        template=np.mean(nikon_movie[:600],axis=0)\n",
    "        templates_list[animal].append(template)\n"
   ]
  },
  {
   "cell_type": "markdown",
   "metadata": {},
   "source": [
    "## Use `register_multisession()`\n",
    "\n",
    "The function `register_multisession()` requires 3 arguments:\n",
    "- `A`: A list of ndarrays or scipy.sparse.csc matrices with (# pixels X # component ROIs) for each session\n",
    "- `dims`: Dimensions of the FOV, needed to restore spatial components to a 2D image\n",
    "- `templates`: List of ndarray matrices of size `dims`, template image of each session"
   ]
  },
  {
   "cell_type": "code",
   "execution_count": 36,
   "metadata": {},
   "outputs": [
    {
     "name": "stderr",
     "output_type": "stream",
     "text": [
      "c:\\Users\\ttami\\anaconda3\\envs\\caiman\\lib\\site-packages\\scipy\\sparse\\_index.py:151: SparseEfficiencyWarning:\n",
      "\n",
      "Changing the sparsity structure of a csc_matrix is expensive. lil_matrix is more efficient.\n",
      "\n"
     ]
    }
   ],
   "source": [
    "for animal in animals:\n",
    "    spatial_union, assignments_per_animal, matchings = register_multisession(A=spatials[animal], dims=dims[animal][0])\n",
    "    assignments[animal]=assignments_per_animal\n"
   ]
  },
  {
   "cell_type": "markdown",
   "metadata": {},
   "source": [
    "FInd the rows where there are no NaN values. Meaning find cells that are cross registered across all conditions"
   ]
  },
  {
   "cell_type": "code",
   "execution_count": 37,
   "metadata": {},
   "outputs": [],
   "source": [
    "# Find the rows where there are no NaN values\n",
    "#meaning where are the cells in all of the days\n",
    "\n",
    "for animal in animals:    \n",
    "    cr_reg_cells[animal] = assignments[animal][~np.isnan(assignments[animal]).any(axis=1)].astype(int)\n",
    "    cr_reg_cells_df[animal]=pd.DataFrame(data=cr_reg_cells[animal],columns=conditions)\n"
   ]
  },
  {
   "cell_type": "code",
   "execution_count": 38,
   "metadata": {},
   "outputs": [],
   "source": [
    "#first store the place cells somewhere\n",
    "pc_cells=OrderedDict()\n",
    "non_pc_cells=OrderedDict()\n",
    "silent_cells=OrderedDict()\n",
    "\n",
    "for animal in animals:\n",
    "    output_file=f\"D:/sd_project_pbox/results/{animal}\"\n",
    "\n",
    "\n",
    "    for condition in conditions:\n",
    "        pc_cells[f'{animal}_{condition}']=[]\n",
    "        non_pc_cells[f'{animal}_{condition}']=[]\n",
    "        silent_cells[f'{animal}_{condition}']=[]\n",
    "\n",
    "        #appending place cells\n",
    "        pc_cells_per_day=h5py.File(f'{output_file}/{condition}/output_info.h5')['place_cells_tuned_vector']\n",
    "        pc_cells_per_day=np.array(pc_cells_per_day)\n",
    "        pc_cells[f'{animal}_{condition}'].append(pc_cells_per_day)\n",
    "\n",
    "        #appending non place cells\n",
    "        non_pc_cells_per_day=h5py.File(f'{output_file}/{condition}/output_info.h5')['non_place_cells_tuned_vector']\n",
    "        non_pc_cells_per_day=np.array(non_pc_cells_per_day)\n",
    "        non_pc_cells[f'{animal}_{condition}'].append(non_pc_cells_per_day)\n",
    "\n",
    "        #appending silent cells\n",
    "        silent_cells_per_day=h5py.File(f'{output_file}/{condition}/output_info.h5')['silent_cells']\n",
    "        silent_cells_per_day=np.array(silent_cells_per_day)\n",
    "        silent_cells[f'{animal}_{condition}'].append(silent_cells_per_day)\n"
   ]
  },
  {
   "cell_type": "code",
   "execution_count": 45,
   "metadata": {},
   "outputs": [
    {
     "data": {
      "application/vnd.plotly.v1+json": {
       "config": {
        "plotlyServerURL": "https://plot.ly"
       },
       "data": [
        {
         "link": {
          "color": [
           "rgba(255, 0, 0, 0.4)",
           "rgba(0, 0, 255, 0.4)",
           "rgba(0, 0, 0, 0.4)",
           "rgba(255, 0, 0, 0.4)",
           "rgba(0, 0, 255, 0.4)",
           "rgba(0, 0, 0, 0.4)",
           "rgba(255, 0, 0, 0.4)",
           "rgba(0, 0, 255, 0.4)",
           "rgba(0, 0, 0, 0.4)",
           "rgba(255, 0, 0, 0.4)",
           "rgba(0, 0, 255, 0.4)",
           "rgba(0, 0, 0, 0.4)",
           "rgba(255, 0, 0, 0.4)",
           "rgba(0, 0, 255, 0.4)",
           "rgba(0, 0, 0, 0.4)",
           "rgba(255, 0, 0, 0.4)",
           "rgba(0, 0, 255, 0.4)",
           "rgba(0, 0, 0, 0.4)"
          ],
          "source": [
           0,
           1,
           2,
           0,
           1,
           2,
           0,
           1,
           2,
           3,
           4,
           5,
           3,
           4,
           5,
           3,
           4,
           5
          ],
          "target": [
           3,
           3,
           3,
           4,
           4,
           4,
           5,
           5,
           5,
           6,
           6,
           6,
           7,
           7,
           7,
           8,
           8,
           8
          ],
          "value": [
           6,
           3,
           5,
           5,
           8,
           14,
           4,
           6,
           24,
           9,
           8,
           8,
           10,
           18,
           24,
           8,
           9,
           40
          ]
         },
         "node": {
          "color": [
           "red",
           "blue",
           "grey",
           "red",
           "blue",
           "grey",
           "red",
           "blue",
           "grey"
          ],
          "label": [
           "PC baseline_d1",
           "nPC baseline_d1",
           "sil baseline_d1",
           "PC baseline_d2",
           "nPC baseline_d2",
           "sil baseline_d2",
           "PC 24hrs_post_SD",
           "nPC 24hrs_post_SD",
           "sil 24hrs_post_SD"
          ],
          "line": {
           "color": "black",
           "width": 0.5
          },
          "pad": 15,
          "thickness": 20
         },
         "type": "sankey"
        }
       ],
       "layout": {
        "font": {
         "size": 10
        },
        "template": {
         "data": {
          "bar": [
           {
            "error_x": {
             "color": "#2a3f5f"
            },
            "error_y": {
             "color": "#2a3f5f"
            },
            "marker": {
             "line": {
              "color": "#E5ECF6",
              "width": 0.5
             },
             "pattern": {
              "fillmode": "overlay",
              "size": 10,
              "solidity": 0.2
             }
            },
            "type": "bar"
           }
          ],
          "barpolar": [
           {
            "marker": {
             "line": {
              "color": "#E5ECF6",
              "width": 0.5
             },
             "pattern": {
              "fillmode": "overlay",
              "size": 10,
              "solidity": 0.2
             }
            },
            "type": "barpolar"
           }
          ],
          "carpet": [
           {
            "aaxis": {
             "endlinecolor": "#2a3f5f",
             "gridcolor": "white",
             "linecolor": "white",
             "minorgridcolor": "white",
             "startlinecolor": "#2a3f5f"
            },
            "baxis": {
             "endlinecolor": "#2a3f5f",
             "gridcolor": "white",
             "linecolor": "white",
             "minorgridcolor": "white",
             "startlinecolor": "#2a3f5f"
            },
            "type": "carpet"
           }
          ],
          "choropleth": [
           {
            "colorbar": {
             "outlinewidth": 0,
             "ticks": ""
            },
            "type": "choropleth"
           }
          ],
          "contour": [
           {
            "colorbar": {
             "outlinewidth": 0,
             "ticks": ""
            },
            "colorscale": [
             [
              0,
              "#0d0887"
             ],
             [
              0.1111111111111111,
              "#46039f"
             ],
             [
              0.2222222222222222,
              "#7201a8"
             ],
             [
              0.3333333333333333,
              "#9c179e"
             ],
             [
              0.4444444444444444,
              "#bd3786"
             ],
             [
              0.5555555555555556,
              "#d8576b"
             ],
             [
              0.6666666666666666,
              "#ed7953"
             ],
             [
              0.7777777777777778,
              "#fb9f3a"
             ],
             [
              0.8888888888888888,
              "#fdca26"
             ],
             [
              1,
              "#f0f921"
             ]
            ],
            "type": "contour"
           }
          ],
          "contourcarpet": [
           {
            "colorbar": {
             "outlinewidth": 0,
             "ticks": ""
            },
            "type": "contourcarpet"
           }
          ],
          "heatmap": [
           {
            "colorbar": {
             "outlinewidth": 0,
             "ticks": ""
            },
            "colorscale": [
             [
              0,
              "#0d0887"
             ],
             [
              0.1111111111111111,
              "#46039f"
             ],
             [
              0.2222222222222222,
              "#7201a8"
             ],
             [
              0.3333333333333333,
              "#9c179e"
             ],
             [
              0.4444444444444444,
              "#bd3786"
             ],
             [
              0.5555555555555556,
              "#d8576b"
             ],
             [
              0.6666666666666666,
              "#ed7953"
             ],
             [
              0.7777777777777778,
              "#fb9f3a"
             ],
             [
              0.8888888888888888,
              "#fdca26"
             ],
             [
              1,
              "#f0f921"
             ]
            ],
            "type": "heatmap"
           }
          ],
          "heatmapgl": [
           {
            "colorbar": {
             "outlinewidth": 0,
             "ticks": ""
            },
            "colorscale": [
             [
              0,
              "#0d0887"
             ],
             [
              0.1111111111111111,
              "#46039f"
             ],
             [
              0.2222222222222222,
              "#7201a8"
             ],
             [
              0.3333333333333333,
              "#9c179e"
             ],
             [
              0.4444444444444444,
              "#bd3786"
             ],
             [
              0.5555555555555556,
              "#d8576b"
             ],
             [
              0.6666666666666666,
              "#ed7953"
             ],
             [
              0.7777777777777778,
              "#fb9f3a"
             ],
             [
              0.8888888888888888,
              "#fdca26"
             ],
             [
              1,
              "#f0f921"
             ]
            ],
            "type": "heatmapgl"
           }
          ],
          "histogram": [
           {
            "marker": {
             "pattern": {
              "fillmode": "overlay",
              "size": 10,
              "solidity": 0.2
             }
            },
            "type": "histogram"
           }
          ],
          "histogram2d": [
           {
            "colorbar": {
             "outlinewidth": 0,
             "ticks": ""
            },
            "colorscale": [
             [
              0,
              "#0d0887"
             ],
             [
              0.1111111111111111,
              "#46039f"
             ],
             [
              0.2222222222222222,
              "#7201a8"
             ],
             [
              0.3333333333333333,
              "#9c179e"
             ],
             [
              0.4444444444444444,
              "#bd3786"
             ],
             [
              0.5555555555555556,
              "#d8576b"
             ],
             [
              0.6666666666666666,
              "#ed7953"
             ],
             [
              0.7777777777777778,
              "#fb9f3a"
             ],
             [
              0.8888888888888888,
              "#fdca26"
             ],
             [
              1,
              "#f0f921"
             ]
            ],
            "type": "histogram2d"
           }
          ],
          "histogram2dcontour": [
           {
            "colorbar": {
             "outlinewidth": 0,
             "ticks": ""
            },
            "colorscale": [
             [
              0,
              "#0d0887"
             ],
             [
              0.1111111111111111,
              "#46039f"
             ],
             [
              0.2222222222222222,
              "#7201a8"
             ],
             [
              0.3333333333333333,
              "#9c179e"
             ],
             [
              0.4444444444444444,
              "#bd3786"
             ],
             [
              0.5555555555555556,
              "#d8576b"
             ],
             [
              0.6666666666666666,
              "#ed7953"
             ],
             [
              0.7777777777777778,
              "#fb9f3a"
             ],
             [
              0.8888888888888888,
              "#fdca26"
             ],
             [
              1,
              "#f0f921"
             ]
            ],
            "type": "histogram2dcontour"
           }
          ],
          "mesh3d": [
           {
            "colorbar": {
             "outlinewidth": 0,
             "ticks": ""
            },
            "type": "mesh3d"
           }
          ],
          "parcoords": [
           {
            "line": {
             "colorbar": {
              "outlinewidth": 0,
              "ticks": ""
             }
            },
            "type": "parcoords"
           }
          ],
          "pie": [
           {
            "automargin": true,
            "type": "pie"
           }
          ],
          "scatter": [
           {
            "fillpattern": {
             "fillmode": "overlay",
             "size": 10,
             "solidity": 0.2
            },
            "type": "scatter"
           }
          ],
          "scatter3d": [
           {
            "line": {
             "colorbar": {
              "outlinewidth": 0,
              "ticks": ""
             }
            },
            "marker": {
             "colorbar": {
              "outlinewidth": 0,
              "ticks": ""
             }
            },
            "type": "scatter3d"
           }
          ],
          "scattercarpet": [
           {
            "marker": {
             "colorbar": {
              "outlinewidth": 0,
              "ticks": ""
             }
            },
            "type": "scattercarpet"
           }
          ],
          "scattergeo": [
           {
            "marker": {
             "colorbar": {
              "outlinewidth": 0,
              "ticks": ""
             }
            },
            "type": "scattergeo"
           }
          ],
          "scattergl": [
           {
            "marker": {
             "colorbar": {
              "outlinewidth": 0,
              "ticks": ""
             }
            },
            "type": "scattergl"
           }
          ],
          "scattermapbox": [
           {
            "marker": {
             "colorbar": {
              "outlinewidth": 0,
              "ticks": ""
             }
            },
            "type": "scattermapbox"
           }
          ],
          "scatterpolar": [
           {
            "marker": {
             "colorbar": {
              "outlinewidth": 0,
              "ticks": ""
             }
            },
            "type": "scatterpolar"
           }
          ],
          "scatterpolargl": [
           {
            "marker": {
             "colorbar": {
              "outlinewidth": 0,
              "ticks": ""
             }
            },
            "type": "scatterpolargl"
           }
          ],
          "scatterternary": [
           {
            "marker": {
             "colorbar": {
              "outlinewidth": 0,
              "ticks": ""
             }
            },
            "type": "scatterternary"
           }
          ],
          "surface": [
           {
            "colorbar": {
             "outlinewidth": 0,
             "ticks": ""
            },
            "colorscale": [
             [
              0,
              "#0d0887"
             ],
             [
              0.1111111111111111,
              "#46039f"
             ],
             [
              0.2222222222222222,
              "#7201a8"
             ],
             [
              0.3333333333333333,
              "#9c179e"
             ],
             [
              0.4444444444444444,
              "#bd3786"
             ],
             [
              0.5555555555555556,
              "#d8576b"
             ],
             [
              0.6666666666666666,
              "#ed7953"
             ],
             [
              0.7777777777777778,
              "#fb9f3a"
             ],
             [
              0.8888888888888888,
              "#fdca26"
             ],
             [
              1,
              "#f0f921"
             ]
            ],
            "type": "surface"
           }
          ],
          "table": [
           {
            "cells": {
             "fill": {
              "color": "#EBF0F8"
             },
             "line": {
              "color": "white"
             }
            },
            "header": {
             "fill": {
              "color": "#C8D4E3"
             },
             "line": {
              "color": "white"
             }
            },
            "type": "table"
           }
          ]
         },
         "layout": {
          "annotationdefaults": {
           "arrowcolor": "#2a3f5f",
           "arrowhead": 0,
           "arrowwidth": 1
          },
          "autotypenumbers": "strict",
          "coloraxis": {
           "colorbar": {
            "outlinewidth": 0,
            "ticks": ""
           }
          },
          "colorscale": {
           "diverging": [
            [
             0,
             "#8e0152"
            ],
            [
             0.1,
             "#c51b7d"
            ],
            [
             0.2,
             "#de77ae"
            ],
            [
             0.3,
             "#f1b6da"
            ],
            [
             0.4,
             "#fde0ef"
            ],
            [
             0.5,
             "#f7f7f7"
            ],
            [
             0.6,
             "#e6f5d0"
            ],
            [
             0.7,
             "#b8e186"
            ],
            [
             0.8,
             "#7fbc41"
            ],
            [
             0.9,
             "#4d9221"
            ],
            [
             1,
             "#276419"
            ]
           ],
           "sequential": [
            [
             0,
             "#0d0887"
            ],
            [
             0.1111111111111111,
             "#46039f"
            ],
            [
             0.2222222222222222,
             "#7201a8"
            ],
            [
             0.3333333333333333,
             "#9c179e"
            ],
            [
             0.4444444444444444,
             "#bd3786"
            ],
            [
             0.5555555555555556,
             "#d8576b"
            ],
            [
             0.6666666666666666,
             "#ed7953"
            ],
            [
             0.7777777777777778,
             "#fb9f3a"
            ],
            [
             0.8888888888888888,
             "#fdca26"
            ],
            [
             1,
             "#f0f921"
            ]
           ],
           "sequentialminus": [
            [
             0,
             "#0d0887"
            ],
            [
             0.1111111111111111,
             "#46039f"
            ],
            [
             0.2222222222222222,
             "#7201a8"
            ],
            [
             0.3333333333333333,
             "#9c179e"
            ],
            [
             0.4444444444444444,
             "#bd3786"
            ],
            [
             0.5555555555555556,
             "#d8576b"
            ],
            [
             0.6666666666666666,
             "#ed7953"
            ],
            [
             0.7777777777777778,
             "#fb9f3a"
            ],
            [
             0.8888888888888888,
             "#fdca26"
            ],
            [
             1,
             "#f0f921"
            ]
           ]
          },
          "colorway": [
           "#636efa",
           "#EF553B",
           "#00cc96",
           "#ab63fa",
           "#FFA15A",
           "#19d3f3",
           "#FF6692",
           "#B6E880",
           "#FF97FF",
           "#FECB52"
          ],
          "font": {
           "color": "#2a3f5f"
          },
          "geo": {
           "bgcolor": "white",
           "lakecolor": "white",
           "landcolor": "#E5ECF6",
           "showlakes": true,
           "showland": true,
           "subunitcolor": "white"
          },
          "hoverlabel": {
           "align": "left"
          },
          "hovermode": "closest",
          "mapbox": {
           "style": "light"
          },
          "paper_bgcolor": "white",
          "plot_bgcolor": "#E5ECF6",
          "polar": {
           "angularaxis": {
            "gridcolor": "white",
            "linecolor": "white",
            "ticks": ""
           },
           "bgcolor": "#E5ECF6",
           "radialaxis": {
            "gridcolor": "white",
            "linecolor": "white",
            "ticks": ""
           }
          },
          "scene": {
           "xaxis": {
            "backgroundcolor": "#E5ECF6",
            "gridcolor": "white",
            "gridwidth": 2,
            "linecolor": "white",
            "showbackground": true,
            "ticks": "",
            "zerolinecolor": "white"
           },
           "yaxis": {
            "backgroundcolor": "#E5ECF6",
            "gridcolor": "white",
            "gridwidth": 2,
            "linecolor": "white",
            "showbackground": true,
            "ticks": "",
            "zerolinecolor": "white"
           },
           "zaxis": {
            "backgroundcolor": "#E5ECF6",
            "gridcolor": "white",
            "gridwidth": 2,
            "linecolor": "white",
            "showbackground": true,
            "ticks": "",
            "zerolinecolor": "white"
           }
          },
          "shapedefaults": {
           "line": {
            "color": "#2a3f5f"
           }
          },
          "ternary": {
           "aaxis": {
            "gridcolor": "white",
            "linecolor": "white",
            "ticks": ""
           },
           "baxis": {
            "gridcolor": "white",
            "linecolor": "white",
            "ticks": ""
           },
           "bgcolor": "#E5ECF6",
           "caxis": {
            "gridcolor": "white",
            "linecolor": "white",
            "ticks": ""
           }
          },
          "title": {
           "x": 0.05
          },
          "xaxis": {
           "automargin": true,
           "gridcolor": "white",
           "linecolor": "white",
           "ticks": "",
           "title": {
            "standoff": 15
           },
           "zerolinecolor": "white",
           "zerolinewidth": 2
          },
          "yaxis": {
           "automargin": true,
           "gridcolor": "white",
           "linecolor": "white",
           "ticks": "",
           "title": {
            "standoff": 15
           },
           "zerolinecolor": "white",
           "zerolinewidth": 2
          }
         }
        },
        "title": {
         "text": "Multianimal session tracking\n['OPI2342', 'OPI2356']\n\n['baseline_d1', 'baseline_d2', '24hrs_post_SD']"
        }
       }
      }
     },
     "metadata": {},
     "output_type": "display_data"
    }
   ],
   "source": [
    "labels = [] \n",
    "colors = []\n",
    "for condition in conditions:\n",
    "  labels.extend([f\"PC {condition}\", f\"nPC {condition}\", f\"sil {condition}\"])  # for each condition, check categories PC, not-PC and low activity\n",
    "  colors.extend([\"red\", \"blue\", \"grey\"])  # 255, 0, 0;  0, 255, 0; 0, 0, 0\n",
    "# in each condition, we have PC and nPC categories, each have PC and nPC targets in the next category\n",
    "sources = []  # should be 0, 1, 2, 0, 1, 2, 0, 1, 2, 3, 4, 5, 3, 4, 5, 3, 4, 5, ...\n",
    "targets = []  # should be 3, 3, 3, 4, 4, 4, 5, 5, 5, 6, 6, 6, 7, 7, 7, 8, 8, 8, ...\n",
    "values = []\n",
    "link_colors = []\n",
    "#initlaiizng zero for all the values so that I can add numbers for individual animals\n",
    "n_PC_to_PC=n_non_PC_to_PC=n_sil_to_PC=0\n",
    "n_PC_to_non_PC=n_sil_to_non_PC=n_non_PC_to_non_PC=0\n",
    "n_PC_to_sil=n_non_PC_to_sil=n_sil_to_sil=0\n",
    "\n",
    "for animal in animals:\n",
    "  df=cr_reg_cells_df[animal]\n",
    "  for i_condition in range(len(conditions)-1):\n",
    "\n",
    "    #target cells place cells\n",
    "    n_PC_to_PC+=len(celltrack.cell_movement(df,animal,conditions[i_condition],conditions[i_condition+1],source_type=pc_cells,target_type=pc_cells))\n",
    "    n_non_PC_to_PC+=len(celltrack.cell_movement(df,animal,conditions[i_condition],conditions[i_condition+1],source_type=non_pc_cells,target_type=pc_cells))\n",
    "    n_sil_to_PC+=len(celltrack.cell_movement(df,animal,conditions[i_condition],conditions[i_condition+1],source_type=silent_cells,target_type=pc_cells))\n",
    "    if animal==animals[-1]:\n",
    "      sources.extend([3*i_condition,3*i_condition+1, 3*i_condition+2])\n",
    "      targets.extend([3*(i_condition+1), 3*(i_condition+1), 3*(i_condition+1)])\n",
    "      values.extend([n_PC_to_PC, n_non_PC_to_PC, n_sil_to_PC])\n",
    "      link_colors.extend([\"rgba(255, 0, 0, 0.4)\", \"rgba(0, 0, 255, 0.4)\", \"rgba(0, 0, 0, 0.4)\"])  # PC -> x is light blue, nPC -> x is light red, Q -> y is \"light black\"\n",
    "\n",
    "    #target cells non place cells\n",
    "    n_PC_to_non_PC+=len(celltrack.cell_movement(df,animal,conditions[i_condition],conditions[i_condition+1],source_type=pc_cells,target_type=non_pc_cells))\n",
    "    n_sil_to_non_PC+=len(celltrack.cell_movement(df,animal,conditions[i_condition],conditions[i_condition+1],source_type=silent_cells,target_type=non_pc_cells))\n",
    "    n_non_PC_to_non_PC+=len(celltrack.cell_movement(df,animal,conditions[i_condition],conditions[i_condition+1],source_type=non_pc_cells,target_type=non_pc_cells))\n",
    "    if animal==animals[-1]:\n",
    "      sources.extend([3*i_condition,3*i_condition+1, 3*i_condition+2])\n",
    "      targets.extend([3*(i_condition+1)+1, 3*(i_condition+1)+1, 3*(i_condition+1)+1])\n",
    "      values.extend([n_PC_to_non_PC, n_non_PC_to_non_PC, n_sil_to_non_PC])\n",
    "      link_colors.extend([\"rgba(255, 0, 0, 0.4)\", \"rgba(0, 0, 255, 0.4)\", \"rgba(0, 0, 0, 0.4)\"])  # PC -> x is light blue, nPC -> x is light red, Q -> y is \"light black\"\n",
    "\n",
    "\n",
    "    #targer cell silent cells  \n",
    "    n_PC_to_sil+=len(celltrack.cell_movement(df,animal,conditions[i_condition],conditions[i_condition+1],source_type=pc_cells,target_type=silent_cells))\n",
    "    n_non_PC_to_sil+=len(celltrack.cell_movement(df,animal,conditions[i_condition],conditions[i_condition+1],source_type=non_pc_cells,target_type=silent_cells))\n",
    "    n_sil_to_sil+=len(celltrack.cell_movement(df,animal,conditions[i_condition],conditions[i_condition+1],source_type=silent_cells,target_type=silent_cells))\n",
    "    if animal==animals[-1]:\n",
    "      sources.extend([3*i_condition,3*i_condition+1, 3*i_condition+2])\n",
    "      targets.extend([3*(i_condition+1)+2, 3*(i_condition+1)+2, 3*(i_condition+1)+2])\n",
    "      values.extend([n_PC_to_sil, n_non_PC_to_sil, n_sil_to_sil])\n",
    "      link_colors.extend([\"rgba(255, 0, 0, 0.4)\", \"rgba(0, 0, 255, 0.4)\", \"rgba(0, 0, 0, 0.4)\"])  # PC -> x is light blue, nPC -> x is light red, Q -> y is \"light black\"\n",
    "\n",
    "  \n",
    "fig = go.Figure(data=[go.Sankey(\n",
    "  node = dict(\n",
    "    pad = 15,\n",
    "    thickness = 20,\n",
    "    line = dict(color = \"black\", width = 0.5),\n",
    "    label = labels,\n",
    "    color = colors\n",
    "  ),\n",
    "  link = dict(\n",
    "    source = sources, # indices correspond to labels, eg A1, A2, A1, B1, ...\n",
    "    target = targets,\n",
    "    value = values,\n",
    "    color = link_colors\n",
    "))])\n",
    "\n",
    "fig.update_layout(title_text=f'Multianimal session tracking\\n{animals}\\n\\n{conditions}', font_size=10)\n",
    "\n",
    "#pio.write_image(fig, F'{output_folder}/{animal}_sankey_diagram.pdf')\n",
    "\n"
   ]
  },
  {
   "cell_type": "code",
   "execution_count": 42,
   "metadata": {},
   "outputs": [
    {
     "data": {
      "text/plain": [
       "59"
      ]
     },
     "execution_count": 42,
     "metadata": {},
     "output_type": "execute_result"
    }
   ],
   "source": [
    "len(cr_reg_cells['OPI2356'])"
   ]
  },
  {
   "cell_type": "code",
   "execution_count": 48,
   "metadata": {},
   "outputs": [
    {
     "data": {
      "text/plain": [
       "0     23\n",
       "1     30\n",
       "2     41\n",
       "3     93\n",
       "4    100\n",
       "5     34\n",
       "6     97\n",
       "7    104\n",
       "Name: baseline_d2, dtype: int32"
      ]
     },
     "execution_count": 48,
     "metadata": {},
     "output_type": "execute_result"
    }
   ],
   "source": [
    "cr_reg_cells_df['OPI2342']['baseline_d2']"
   ]
  },
  {
   "cell_type": "code",
   "execution_count": 29,
   "metadata": {},
   "outputs": [
    {
     "data": {
      "text/plain": [
       "OrderedDict([('OPI2342',\n",
       "                 baseline_d1  baseline_d2  24hrs_post_SD\n",
       "              0           26           23             89\n",
       "              1           32           30             16\n",
       "              2           42           41             26\n",
       "              3           54           93             35\n",
       "              4          103          100             91\n",
       "              5          120           34             18\n",
       "              6          145           97             14\n",
       "              7          147          104             87),\n",
       "             ('OPI2356',\n",
       "                  baseline_d1  baseline_d2  24hrs_post_SD\n",
       "              0            22           20             27\n",
       "              1            24           22             28\n",
       "              2            25          209            215\n",
       "              3            29           28             37\n",
       "              4            31           30             39\n",
       "              5            33           38             44\n",
       "              6            41          210            210\n",
       "              7            46          229             57\n",
       "              8            51           65            222\n",
       "              9            53           66            250\n",
       "              10           54           68             62\n",
       "              11           68           81             74\n",
       "              12           71           83            237\n",
       "              13           72          231            265\n",
       "              14           77          212             79\n",
       "              15           79           93             81\n",
       "              16           80          239             70\n",
       "              17           82           98             86\n",
       "              18           89          102             93\n",
       "              19          102          110            103\n",
       "              20          106          116            217\n",
       "              21          108          119             91\n",
       "              22          111          101            273\n",
       "              23          116          125            117\n",
       "              24          120          130            120\n",
       "              25          121          131            121\n",
       "              26          123          133            122\n",
       "              27          124          134            123\n",
       "              28          126          240            220\n",
       "              29          127          137            104\n",
       "              30          133          142            128\n",
       "              31          139          266            258\n",
       "              32          142          151            141\n",
       "              33          152          159            151\n",
       "              34          170          259            150\n",
       "              35          175          175            236\n",
       "              36          179          207            183\n",
       "              37          187          188            259\n",
       "              38          192          193            195\n",
       "              39          195          258            197\n",
       "              40          196          257            199\n",
       "              41          197          196            235\n",
       "              42          201          183            181\n",
       "              43          202           85            254\n",
       "              44          211          208            212\n",
       "              45          212          263             68\n",
       "              46          213          275             25\n",
       "              47          217          236            263\n",
       "              48          218           52             55\n",
       "              49          226          224            230\n",
       "              50          230          230            276\n",
       "              51          237           61            248\n",
       "              52          242          181            180\n",
       "              53          244          156            148\n",
       "              54          257          238             64\n",
       "              55          265          180            178\n",
       "              56          268          126            116\n",
       "              57          274          246            221\n",
       "              58          276          121            108)])"
      ]
     },
     "execution_count": 29,
     "metadata": {},
     "output_type": "execute_result"
    }
   ],
   "source": [
    "cr_reg_cells_df"
   ]
  },
  {
   "cell_type": "code",
   "execution_count": 30,
   "metadata": {},
   "outputs": [],
   "source": [
    "#define cross registered place cells per session\n",
    "\n",
    "def filter_cross_registered_place_cells(df, sessions, place_cell_arrays):\n",
    "    if not sessions:\n",
    "        return df  # Return the original DataFrame if no sessions are specified\n",
    "    \n",
    "    mask = df[sessions[0]].isin(place_cell_arrays[sessions[0]][0])\n",
    "    for session in sessions[1:]:\n",
    "        mask &= df[session].isin(place_cell_arrays[session][0])\n",
    "    \n",
    "    filtered_df = df[mask]\n",
    "    return filtered_df[sessions]\n",
    "\n",
    "def cell_movement(df,source_condition,targ_condition,source_type,target_type):\n",
    "    \n",
    "    mask = df[source_condition].isin(source_type[source_condition][0])\n",
    "    mask &= df[targ_condition].isin(target_type[targ_condition][0])\n",
    "\n",
    "    filtered_df = df[mask]\n",
    "    return filtered_df[[source_condition,targ_condition]]"
   ]
  },
  {
   "cell_type": "code",
   "execution_count": 31,
   "metadata": {},
   "outputs": [
    {
     "name": "stdout",
     "output_type": "stream",
     "text": [
      "comparidson between ['baseline_d2', '24hrs_post_SD']\n",
      "Empty DataFrame\n",
      "Columns: [baseline_d2, 24hrs_post_SD]\n",
      "Index: []\n"
     ]
    }
   ],
   "source": [
    "\n",
    "sessions=conditions #all of them\n",
    "sessions=['baseline_d1','baseline_d2']\n",
    "sessions=['baseline_d2','24hrs_post_SD']\n",
    "#sessions=conditions\n",
    "\n",
    "# Example usage for two sessions:\n",
    "filtered_df = filter_cross_registered_place_cells(df, sessions, pc_cells)\n"
   ]
  },
  {
   "cell_type": "code",
   "execution_count": 32,
   "metadata": {},
   "outputs": [],
   "source": [
    "#indetify only the cross registered place cells in each of the recordings\n",
    "fr_rate_maps_to_compare=OrderedDict()\n",
    "\n",
    "for session in sessions:\n",
    "    fr_rate_maps_to_compare[session]=[]\n",
    "\n",
    "for session in sessions:\n",
    "    avr_fr_rate_map=h5py.File(f'{output_folder}/{session}/output_info.h5')['avr_firing_rate_maps']\n",
    "    avr_fr_rate_map=pd.DataFrame(avr_fr_rate_map)\n",
    "    cr_reg_cells_values=filtered_df[session].values\n",
    "    avr_fr_rate_map=avr_fr_rate_map.iloc[cr_reg_cells_values]\n",
    "    fr_rate_maps_to_compare[session]=avr_fr_rate_map\n",
    "\n"
   ]
  },
  {
   "cell_type": "code",
   "execution_count": null,
   "metadata": {},
   "outputs": [],
   "source": [
    "#plotting the original place cell coding diagrams\n",
    "\n",
    "sel_fontize=20\n",
    "\n",
    "fig,ax=plt.subplots(2,len(sessions),figsize=(20,20))\n",
    "fig.suptitle(f'{animal}\\ncross registered place cells\\n comparison{sessions}\\n Up Original sorting\\nBelow sorted to {sessions[0]}',fontsize=sel_fontize+5)\n",
    "                    \n",
    "custom_ticks = [0, 50, 100, 150]  # Specify the positions where you want the ticks\n",
    "custom_labels = ['0', '50', '100', '150']  \n",
    "\n",
    "for i,session in enumerate(sessions):\n",
    "    place_cell_activity=fr_rate_maps_to_compare[session]\n",
    "    place_cell_indexes_max=np.argmax(place_cell_activity,axis=1) #finding the place of the max activity of every cell\n",
    "    place_cell_indexed_filtered=place_cell_activity.apply(np.argmax, axis=1).sort_values().index #there are the new indexes of the place cells just so thez can form the nice place cell diagram\n",
    "    transpose=place_cell_indexed_filtered\n",
    "    place_cell_activity=place_cell_activity.reindex(index=transpose) #reindexing the place cell panda frame according to the max activitz and the position in the belt\n",
    "\n",
    "\n",
    "    sns.heatmap(place_cell_activity,ax=ax[0,i],cmap='viridis',cbar=False)#,vmax=4)\n",
    "    if i==0:\n",
    "        ax[0,i].set_ylabel('cross registered place cells',fontsize=sel_fontize)\n",
    "    else:\n",
    "        ax[0,i].set_ylabel('')\n",
    "    ax[0,i].set_xlabel('')\n",
    "    ax[0,i].set_yticks([])\n",
    "    ax[0,i].set_yticklabels([])\n",
    "    ax[0,i].set_title(session,fontsize=sel_fontize)\n",
    "    ax[0,i].set_xticks([])\n",
    "    ax[0,i].set_xticklabels([])\n",
    "\n",
    "#plotting place coding diagram transposed on the first one\n",
    "\n",
    "place_cell_activity=fr_rate_maps_to_compare[sessions[0]].reset_index(drop=True)\n",
    "place_cell_indexes_max=np.argmax(place_cell_activity,axis=1) #finding the place of the max activity of every cell\n",
    "place_cell_indexed_filtered=place_cell_activity.apply(np.argmax, axis=1).sort_values().index \n",
    "transpose=place_cell_indexed_filtered\n",
    "\n",
    "for i,session in enumerate(sessions):\n",
    "    place_cell_activity=fr_rate_maps_to_compare[session].reset_index(drop=True)\n",
    "    place_cell_activity=place_cell_activity.reindex(index=transpose) #reindexing the place cell panda frame according to the max activitz and the position in the belt\n",
    "\n",
    "    sns.heatmap(place_cell_activity,ax=ax[1,i],cmap='viridis',cbar=False)\n",
    "    if i==0:\n",
    "        ax[1,i].set_ylabel('cross registered place cells',fontsize=sel_fontize)\n",
    "    else:\n",
    "        ax[1,i].set_ylabel('')\n",
    "    ax[1,i].set_xlabel('Belt(cm)',fontsize=sel_fontize)\n",
    "    ax[1,i].set_yticks([])\n",
    "    ax[1,i].set_yticklabels([])\n",
    "    ax[1,i].set_xticks(custom_ticks)\n",
    "    ax[1,i].set_xticklabels(custom_labels,fontsize=sel_fontize)\n",
    "\n",
    "plt.tight_layout()\n",
    "\n",
    "plt.savefig(f'{output_folder}/cross_registration/{animal}_{sessions}_place_cells_comparison.png', format='png', dpi=300, bbox_inches='tight')\n",
    "plt.savefig(f'{output_folder}/cross_registration/{animal}_{sessions}_place_cells_comparison.pdf', format='pdf', dpi=300, bbox_inches='tight')"
   ]
  }
 ],
 "metadata": {
  "kernelspec": {
   "display_name": "Python 3 (ipykernel)",
   "language": "python",
   "name": "python3"
  },
  "language_info": {
   "codemirror_mode": {
    "name": "ipython",
    "version": 3
   },
   "file_extension": ".py",
   "mimetype": "text/x-python",
   "name": "python",
   "nbconvert_exporter": "python",
   "pygments_lexer": "ipython3",
   "version": "3.10.8"
  }
 },
 "nbformat": 4,
 "nbformat_minor": 2
}
