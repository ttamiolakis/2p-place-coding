{
 "cells": [
  {
   "cell_type": "code",
   "execution_count": 26,
   "metadata": {},
   "outputs": [],
   "source": [
    "import glob\n",
    "import random\n",
    "import os\n",
    "import sys\n",
    "\n",
    "import h5py\n",
    "import matplotlib.pyplot as plt\n",
    "import matplotlib.patches as mpatches\n",
    "from matplotlib.backends.backend_pdf import PdfPages\n",
    "import numpy as np\n",
    "import pandas as pd\n",
    "from scipy.stats import zscore,kstest,stats\n",
    "import seaborn as sns\n",
    "from collections import OrderedDict\n",
    "from statsmodels.stats.multicomp import pairwise_tukeyhsd\n",
    "\n",
    "#from placecode.expinfo import MultipleFilesFoundError\n",
    "\n",
    "#import my functions\n",
    "import sys\n",
    "sys.path.append('..')\n",
    "from placecode.spatial_coding_functions import make_firing_rate_maps,make_binary,adding_parameters,cell_morphology,TunedVector,KstestPlaceCells"
   ]
  },
  {
   "cell_type": "code",
   "execution_count": 27,
   "metadata": {},
   "outputs": [],
   "source": [
    "#find the number of cells that were place in all conditions\n",
    "output_file=f\"D:/sd_project_pbox/results/OPI2342\"\n",
    "conditions=['bl_d1','bl_d2','24h_post','novel_belt_d1','novel_belt_d2','novel_belt_d3']\n",
    "animals=['OPI2342',\"OPI2356\"]\n",
    "\n",
    "#first store the place cells somewhere\n",
    "pc_cells_fr_maps=OrderedDict()\n",
    "\n",
    "for animal in animals:\n",
    "\n",
    "    for condition in conditions:\n",
    "        output_df_path=f'{output_file}/{condition}/output_info.h5'\n",
    "        with h5py.File(output_df_path, 'r') as f:\n",
    "            pc_cells_fr_maps[f'{animal}_{condition}']=f['sorted_place_cells_tuned vector']\n",
    "            pc_cells_fr_maps[f'{animal}_{condition}']=np.array(pc_cells_fr_maps[f'{animal}_{condition}'])\n",
    "            pc_cells_fr_maps[f'{animal}_{condition}']=pd.DataFrame(pc_cells_fr_maps[f'{animal}_{condition}'])\n",
    " "
   ]
  },
  {
   "cell_type": "code",
   "execution_count": 28,
   "metadata": {},
   "outputs": [],
   "source": [
    "conditions=['bl_d1','bl_d2','24h_post','novel_belt_d1','novel_belt_d2','novel_belt_d3']\n",
    "#threshold for steps to establish maximum activation\n",
    "steps=20 #corresponds to 20c\n",
    "belt_length=150\n",
    "pc_width=OrderedDict()\n",
    "\n",
    "for condition in conditions:\n",
    "    pc_width[f'{condition}']=[]\n",
    "\n",
    "for animal in animals:\n",
    "    for condition in conditions:\n",
    "        for n in range(len(pc_cells_fr_maps[f'{animal}_{condition}'])):\n",
    "            place_field_activation=pc_cells_fr_maps[f'{animal}_{condition}'].iloc[n]\n",
    "            max_index = np.argmax(place_field_activation)\n",
    "            max_z_score = place_field_activation[max_index] #point of maximum activation\n",
    "            #threshold for sifnificant activation\n",
    "            threshold = max_z_score * 0.7  # 70% of the maximum z-score\n",
    "            left_steps=0\n",
    "            right_steps=0\n",
    "            for i in range(1,steps):\n",
    "                ###for right steps\n",
    "                if max_index+i<belt_length:\n",
    "                    if place_field_activation[max_index+i]>=threshold:\n",
    "                        right_steps+=1\n",
    "                if max_index+i>=belt_length:\n",
    "                    if place_field_activation[max_index+i-belt_length]>=threshold:\n",
    "                        right_steps+=1\n",
    "                ###for left steps\n",
    "                if max_index-i>=0:\n",
    "                    if place_field_activation[max_index-i]>=threshold:\n",
    "                        left_steps+=1\n",
    "                if max_index-i<0:\n",
    "                    if place_field_activation[max_index-i+belt_length]>=threshold:\n",
    "                        left_steps+=1\n",
    "\n",
    "\n",
    "            pc_width[condition].append(left_steps+right_steps)\n",
    "\n"
   ]
  },
  {
   "cell_type": "code",
   "execution_count": 31,
   "metadata": {},
   "outputs": [
    {
     "name": "stderr",
     "output_type": "stream",
     "text": [
      "C:\\Users\\ttami\\AppData\\Local\\Temp\\ipykernel_6616\\3927580338.py:23: DeprecationWarning: Please use `f_oneway` from the `scipy.stats` namespace, the `scipy.stats.stats` namespace is deprecated.\n",
      "  f_stat, p_value = stats.f_oneway(*groups)\n"
     ]
    },
    {
     "name": "stdout",
     "output_type": "stream",
     "text": [
      "F-statistic: 3.837959029450963, p-value: 0.0022138530875391773\n",
      "       Multiple Comparison of Means - Tukey HSD, FWER=0.05        \n",
      "==================================================================\n",
      "    group1        group2    meandiff p-adj   lower   upper  reject\n",
      "------------------------------------------------------------------\n",
      "     24h_post         bl_d1  -1.9361 0.4367 -4.9421  1.0699  False\n",
      "     24h_post         bl_d2  -0.2179    1.0 -3.4969  3.0611  False\n",
      "     24h_post novel_belt_d1   0.3493 0.9998 -3.3396  4.0382  False\n",
      "     24h_post novel_belt_d2  -3.4031 0.0368 -6.6821  -0.124   True\n",
      "     24h_post novel_belt_d3  -2.6652 0.3683 -6.5672  1.2368  False\n",
      "        bl_d1         bl_d2   1.7182  0.392 -0.8494  4.2858  False\n",
      "        bl_d1 novel_belt_d1   2.2853 0.2733 -0.7885  5.3592  False\n",
      "        bl_d1 novel_belt_d2   -1.467 0.5732 -4.0346  1.1006  False\n",
      "        bl_d1 novel_belt_d3  -0.7291 0.9888 -4.0557  2.5975  False\n",
      "        bl_d2 novel_belt_d1   0.5671 0.9966 -2.7742  3.9084  False\n",
      "        bl_d2 novel_belt_d2  -3.1852 0.0207 -6.0676 -0.3028   True\n",
      "        bl_d2 novel_belt_d3  -2.4473 0.3657 -6.0225  1.1279  False\n",
      "novel_belt_d1 novel_belt_d2  -3.7523 0.0176 -7.0936  -0.411   True\n",
      "novel_belt_d1 novel_belt_d3  -3.0144  0.247 -6.9689  0.9401  False\n",
      "novel_belt_d2 novel_belt_d3   0.7379 0.9915 -2.8373  4.3131  False\n",
      "------------------------------------------------------------------\n"
     ]
    },
    {
     "data": {
      "image/png": "[encoded data removed]",
      "text/plain": [
       "<Figure size 1000x600 with 1 Axes>"
      ]
     },
     "metadata": {},
     "output_type": "display_data"
    }
   ],
   "source": [
    "# Calculate means and standard deviations\n",
    "labels = list(pc_width.keys())\n",
    "means = [np.mean(values) for values in pc_width.values()]\n",
    "std_devs = [np.std(values, ddof=1) for values in pc_width.values()]  # ddof=1 for sample std\n",
    "sems = [np.std(values, ddof=1) / np.sqrt(len(values)) for values in pc_width.values()]\n",
    "\n",
    "# Plotting\n",
    "x = np.arange(len(labels))\n",
    "width = 0.6\n",
    "\n",
    "fig, ax = plt.subplots(figsize=(10, 6))\n",
    "bars = ax.bar(x, means, width, yerr=sems, capsize=5, alpha=0.7, ecolor='black', edgecolor='gray',color=[plt.cm.rainbow(np.random.rand()) for _ in means])\n",
    "\n",
    "# Add labels and title\n",
    "ax.set_xlabel('Conditions')\n",
    "ax.set_ylabel('Place cell width')\n",
    "ax.set_title('Place cell width')\n",
    "ax.set_xticks(x)\n",
    "ax.set_xticklabels(labels, rotation=45, ha='right')\n",
    "\n",
    "#perform anova\n",
    "groups = list(pc_width.values())  # Extract the list of values for each condition\n",
    "f_stat, p_value = stats.f_oneway(*groups)\n",
    "print(f\"F-statistic: {f_stat}, p-value: {p_value}\")\n",
    "\n",
    "#organize data in a pdanda frame\n",
    "data = []\n",
    "for label, values in pc_width.items():\n",
    "    data.extend([(label, value) for value in values])\n",
    "\n",
    "df = pd.DataFrame(data, columns=['Condition', 'Width'])\n",
    "\n",
    "# Perform Tukey's HSD test\n",
    "tukey = pairwise_tukeyhsd(endog=df['Width'], groups=df['Condition'], alpha=0.05)\n",
    "print(tukey)\n",
    "\n",
    "\n",
    "\n",
    "# plt.tight_layout()\n",
    "plt.show()"
   ]
  },
  {
   "cell_type": "code",
   "execution_count": null,
   "metadata": {},
   "outputs": [],
   "source": []
  }
 ],
 "metadata": {
  "kernelspec": {
   "display_name": ".venv",
   "language": "python",
   "name": "python3"
  },
  "language_info": {
   "codemirror_mode": {
    "name": "ipython",
    "version": 3
   },
   "file_extension": ".py",
   "mimetype": "text/x-python",
   "name": "python",
   "nbconvert_exporter": "python",
   "pygments_lexer": "ipython3",
   "version": "3.11.7"
  }
 },
 "nbformat": 4,
 "nbformat_minor": 2
}
