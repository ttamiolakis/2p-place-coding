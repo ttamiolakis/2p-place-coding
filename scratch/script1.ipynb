{
 "cells": [
  {
   "cell_type": "code",
   "execution_count": 7,
   "metadata": {},
   "outputs": [],
   "source": [
    "# if not \"message\" in locals():\n",
    "#     message='ibehave'\n",
    "\n",
    "#locals is a d.getictionary containing all the variables\n",
    "#message='ibehave'\n",
    "\n",
    "\n",
    "\n",
    "if locals().get('script_mode',True):\n",
    "    message='ibehave'\n"
   ]
  },
  {
   "cell_type": "code",
   "execution_count": 8,
   "metadata": {},
   "outputs": [
    {
     "name": "stdout",
     "output_type": "stream",
     "text": [
      "ibehave\n"
     ]
    }
   ],
   "source": [
    "print(message)"
   ]
  },
  {
   "cell_type": "code",
   "execution_count": 4,
   "metadata": {},
   "outputs": [
    {
     "data": {
      "text/plain": [
       "{'__name__': '__main__',\n",
       " '__doc__': 'Automatically created module for IPython interactive environment',\n",
       " '__package__': None,\n",
       " '__loader__': None,\n",
       " '__spec__': None,\n",
       " '__builtin__': <module 'builtins' (built-in)>,\n",
       " '__builtins__': <module 'builtins' (built-in)>,\n",
       " '_ih': ['',\n",
       "  'if not \"message\" in locals():\\n    message=\\'ibehave\\'\\n\\n#message=\\'ibehave\\'',\n",
       "  'print(message)',\n",
       "  'locals()',\n",
       "  'a=5\\nlocals()'],\n",
       " '_oh': {3: {...}},\n",
       " '_dh': [WindowsPath('c:/Users/Theodore Tamiolakis/OneDrive/PhD/Lab/Programming/2-place-coding/2p-place-coding/scratch'),\n",
       "  WindowsPath('c:/Users/Theodore Tamiolakis/OneDrive/PhD/Lab/Programming/2-place-coding/2p-place-coding/scratch')],\n",
       " 'In': ['',\n",
       "  'if not \"message\" in locals():\\n    message=\\'ibehave\\'\\n\\n#message=\\'ibehave\\'',\n",
       "  'print(message)',\n",
       "  'locals()',\n",
       "  'a=5\\nlocals()'],\n",
       " 'Out': {3: {...}},\n",
       " 'get_ipython': <bound method InteractiveShell.get_ipython of <ipykernel.zmqshell.ZMQInteractiveShell object at 0x00000231040A6390>>,\n",
       " 'exit': <IPython.core.autocall.ZMQExitAutocall at 0x231040bac10>,\n",
       " 'quit': <IPython.core.autocall.ZMQExitAutocall at 0x231040bac10>,\n",
       " 'open': <function io.open(file, mode='r', buffering=-1, encoding=None, errors=None, newline=None, closefd=True, opener=None)>,\n",
       " '_': {...},\n",
       " '__': '',\n",
       " '___': '',\n",
       " '__vsc_ipynb_file__': 'c:\\\\Users\\\\Theodore Tamiolakis\\\\OneDrive\\\\PhD\\\\Lab\\\\Programming\\\\2-place-coding\\\\2p-place-coding\\\\scratch\\\\script1.ipynb',\n",
       " '_i': 'locals()',\n",
       " '_ii': 'print(message)',\n",
       " '_iii': 'if not \"message\" in locals():\\n    message=\\'ibehave\\'\\n\\n#message=\\'ibehave\\'',\n",
       " '_i1': 'if not \"message\" in locals():\\n    message=\\'ibehave\\'\\n\\n#message=\\'ibehave\\'',\n",
       " 'message': 'ibehave',\n",
       " '_i2': 'print(message)',\n",
       " '_i3': 'locals()',\n",
       " '_3': {...},\n",
       " '_i4': 'a=5\\nlocals()',\n",
       " 'a': 5}"
      ]
     },
     "execution_count": 4,
     "metadata": {},
     "output_type": "execute_result"
    }
   ],
   "source": [
    "a=5\n",
    "locals()"
   ]
  },
  {
   "cell_type": "code",
   "execution_count": null,
   "metadata": {},
   "outputs": [],
   "source": []
  }
 ],
 "metadata": {
  "kernelspec": {
   "display_name": ".venv",
   "language": "python",
   "name": "python3"
  },
  "language_info": {
   "codemirror_mode": {
    "name": "ipython",
    "version": 3
   },
   "file_extension": ".py",
   "mimetype": "text/x-python",
   "name": "python",
   "nbconvert_exporter": "python",
   "pygments_lexer": "ipython3",
   "version": "3.11.5"
  }
 },
 "nbformat": 4,
 "nbformat_minor": 2
}
