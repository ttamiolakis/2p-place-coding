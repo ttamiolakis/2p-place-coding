{
 "cells": [
  {
   "cell_type": "code",
   "execution_count": 1,
   "id": "3835f5b7",
   "metadata": {},
   "outputs": [],
   "source": [
    "#Auto-reload modules (used to develop functions outside this notebook)\n",
    "%load_ext autoreload\n",
    "%autoreload 2"
   ]
  },
  {
   "cell_type": "code",
   "execution_count": 3,
   "id": "23d5c7a7",
   "metadata": {},
   "outputs": [
    {
     "name": "stdout",
     "output_type": "stream",
     "text": [
      "Collecting pims_nd2\n",
      "  Downloading pims_nd2-1.1.tar.gz (19.7 MB)\n",
      "     ---------------------------------------- 0.0/19.7 MB ? eta -:--:--\n",
      "     --------------------------------------- 0.0/19.7 MB 660.6 kB/s eta 0:00:30\n",
      "     ---------------------------------------- 0.2/19.7 MB 2.4 MB/s eta 0:00:09\n",
      "      --------------------------------------- 0.5/19.7 MB 3.5 MB/s eta 0:00:06\n",
      "     - -------------------------------------- 0.7/19.7 MB 3.9 MB/s eta 0:00:05\n",
      "     - -------------------------------------- 0.9/19.7 MB 4.0 MB/s eta 0:00:05\n",
      "     -- ------------------------------------- 1.1/19.7 MB 4.1 MB/s eta 0:00:05\n",
      "     -- ------------------------------------- 1.3/19.7 MB 4.1 MB/s eta 0:00:05\n",
      "     --- ------------------------------------ 1.5/19.7 MB 4.2 MB/s eta 0:00:05\n",
      "     --- ------------------------------------ 1.7/19.7 MB 4.3 MB/s eta 0:00:05\n",
      "     ---- ----------------------------------- 2.0/19.7 MB 4.4 MB/s eta 0:00:05\n",
      "     ---- ----------------------------------- 2.2/19.7 MB 4.4 MB/s eta 0:00:04\n",
      "     ---- ----------------------------------- 2.4/19.7 MB 4.4 MB/s eta 0:00:04\n",
      "     ----- ---------------------------------- 2.5/19.7 MB 4.3 MB/s eta 0:00:05\n",
      "     ----- ---------------------------------- 2.7/19.7 MB 4.2 MB/s eta 0:00:05\n",
      "     ----- ---------------------------------- 2.9/19.7 MB 4.2 MB/s eta 0:00:05\n",
      "     ------ --------------------------------- 3.1/19.7 MB 4.2 MB/s eta 0:00:04\n",
      "     ------ --------------------------------- 3.3/19.7 MB 4.2 MB/s eta 0:00:04\n",
      "     ------- -------------------------------- 3.5/19.7 MB 4.2 MB/s eta 0:00:04\n",
      "     ------- -------------------------------- 3.7/19.7 MB 4.2 MB/s eta 0:00:04\n",
      "     ------- -------------------------------- 3.8/19.7 MB 4.2 MB/s eta 0:00:04\n",
      "     -------- ------------------------------- 4.0/19.7 MB 4.2 MB/s eta 0:00:04\n",
      "     -------- ------------------------------- 4.2/19.7 MB 4.2 MB/s eta 0:00:04\n",
      "     --------- ------------------------------ 4.5/19.7 MB 4.2 MB/s eta 0:00:04\n",
      "     --------- ------------------------------ 4.7/19.7 MB 4.3 MB/s eta 0:00:04\n",
      "     --------- ------------------------------ 4.9/19.7 MB 4.3 MB/s eta 0:00:04\n",
      "     ---------- ----------------------------- 5.2/19.7 MB 4.4 MB/s eta 0:00:04\n",
      "     ---------- ----------------------------- 5.4/19.7 MB 4.4 MB/s eta 0:00:04\n",
      "     ---------- ----------------------------- 5.4/19.7 MB 4.4 MB/s eta 0:00:04\n",
      "     ----------- ---------------------------- 5.4/19.7 MB 4.1 MB/s eta 0:00:04\n",
      "     ----------- ---------------------------- 5.6/19.7 MB 4.0 MB/s eta 0:00:04\n",
      "     ----------- ---------------------------- 5.8/19.7 MB 4.1 MB/s eta 0:00:04\n",
      "     ------------ --------------------------- 6.0/19.7 MB 4.1 MB/s eta 0:00:04\n",
      "     ------------ --------------------------- 6.3/19.7 MB 4.1 MB/s eta 0:00:04\n",
      "     ------------- -------------------------- 6.4/19.7 MB 4.1 MB/s eta 0:00:04\n",
      "     ------------- -------------------------- 6.6/19.7 MB 4.1 MB/s eta 0:00:04\n",
      "     ------------- -------------------------- 6.8/19.7 MB 4.1 MB/s eta 0:00:04\n",
      "     -------------- ------------------------- 7.0/19.7 MB 4.1 MB/s eta 0:00:04\n",
      "     -------------- ------------------------- 7.2/19.7 MB 4.1 MB/s eta 0:00:04\n",
      "     --------------- ------------------------ 7.5/19.7 MB 4.2 MB/s eta 0:00:03\n",
      "     --------------- ------------------------ 7.8/19.7 MB 4.2 MB/s eta 0:00:03\n",
      "     ---------------- ----------------------- 8.1/19.7 MB 4.3 MB/s eta 0:00:03\n",
      "     ---------------- ----------------------- 8.3/19.7 MB 4.3 MB/s eta 0:00:03\n",
      "     ----------------- ---------------------- 8.6/19.7 MB 4.3 MB/s eta 0:00:03\n",
      "     ----------------- ---------------------- 8.8/19.7 MB 4.3 MB/s eta 0:00:03\n",
      "     ------------------ --------------------- 9.0/19.7 MB 4.3 MB/s eta 0:00:03\n",
      "     ------------------ --------------------- 9.3/19.7 MB 4.4 MB/s eta 0:00:03\n",
      "     ------------------- -------------------- 9.5/19.7 MB 4.4 MB/s eta 0:00:03\n",
      "     ------------------- -------------------- 9.6/19.7 MB 4.3 MB/s eta 0:00:03\n",
      "     ------------------- -------------------- 9.8/19.7 MB 4.3 MB/s eta 0:00:03\n",
      "     -------------------- ------------------- 10.0/19.7 MB 4.3 MB/s eta 0:00:03\n",
      "     -------------------- ------------------- 10.2/19.7 MB 4.3 MB/s eta 0:00:03\n",
      "     --------------------- ------------------ 10.4/19.7 MB 4.4 MB/s eta 0:00:03\n",
      "     --------------------- ------------------ 10.7/19.7 MB 4.4 MB/s eta 0:00:03\n",
      "     ---------------------- ----------------- 10.9/19.7 MB 4.4 MB/s eta 0:00:02\n",
      "     ---------------------- ----------------- 11.1/19.7 MB 4.4 MB/s eta 0:00:02\n",
      "     ----------------------- ---------------- 11.3/19.7 MB 4.4 MB/s eta 0:00:02\n",
      "     ----------------------- ---------------- 11.6/19.7 MB 4.4 MB/s eta 0:00:02\n",
      "     ----------------------- ---------------- 11.8/19.7 MB 4.4 MB/s eta 0:00:02\n",
      "     ------------------------ --------------- 12.0/19.7 MB 4.4 MB/s eta 0:00:02\n",
      "     ------------------------ --------------- 12.2/19.7 MB 4.4 MB/s eta 0:00:02\n",
      "     ------------------------- -------------- 12.4/19.7 MB 4.4 MB/s eta 0:00:02\n",
      "     ------------------------- -------------- 12.6/19.7 MB 4.4 MB/s eta 0:00:02\n",
      "     -------------------------- ------------- 12.9/19.7 MB 4.5 MB/s eta 0:00:02\n",
      "     -------------------------- ------------- 13.1/19.7 MB 4.5 MB/s eta 0:00:02\n",
      "     -------------------------- ------------- 13.3/19.7 MB 4.5 MB/s eta 0:00:02\n",
      "     --------------------------- ------------ 13.5/19.7 MB 4.5 MB/s eta 0:00:02\n",
      "     --------------------------- ------------ 13.8/19.7 MB 4.5 MB/s eta 0:00:02\n",
      "     ---------------------------- ----------- 14.0/19.7 MB 4.5 MB/s eta 0:00:02\n",
      "     ---------------------------- ----------- 14.2/19.7 MB 4.5 MB/s eta 0:00:02\n",
      "     ----------------------------- ---------- 14.5/19.7 MB 4.6 MB/s eta 0:00:02\n",
      "     ----------------------------- ---------- 14.7/19.7 MB 4.6 MB/s eta 0:00:02\n",
      "     ------------------------------ --------- 15.0/19.7 MB 4.6 MB/s eta 0:00:02\n",
      "     ------------------------------ --------- 15.2/19.7 MB 4.6 MB/s eta 0:00:01\n",
      "     ------------------------------- -------- 15.4/19.7 MB 4.6 MB/s eta 0:00:01\n",
      "     ------------------------------- -------- 15.6/19.7 MB 4.8 MB/s eta 0:00:01\n",
      "     -------------------------------- ------- 15.9/19.7 MB 4.8 MB/s eta 0:00:01\n",
      "     -------------------------------- ------- 16.1/19.7 MB 4.8 MB/s eta 0:00:01\n",
      "     --------------------------------- ------ 16.4/19.7 MB 4.9 MB/s eta 0:00:01\n",
      "     --------------------------------- ------ 16.6/19.7 MB 4.9 MB/s eta 0:00:01\n",
      "     ---------------------------------- ----- 16.9/19.7 MB 4.9 MB/s eta 0:00:01\n",
      "     ---------------------------------- ----- 17.1/19.7 MB 5.0 MB/s eta 0:00:01\n",
      "     ----------------------------------- ---- 17.4/19.7 MB 5.0 MB/s eta 0:00:01\n",
      "     ----------------------------------- ---- 17.6/19.7 MB 5.0 MB/s eta 0:00:01\n",
      "     ------------------------------------ --- 17.9/19.7 MB 5.0 MB/s eta 0:00:01\n",
      "     ------------------------------------ --- 18.1/19.7 MB 4.9 MB/s eta 0:00:01\n",
      "     ------------------------------------- -- 18.3/19.7 MB 4.9 MB/s eta 0:00:01\n",
      "     ------------------------------------- -- 18.5/19.7 MB 4.9 MB/s eta 0:00:01\n",
      "     -------------------------------------- - 18.8/19.7 MB 4.9 MB/s eta 0:00:01\n",
      "     -------------------------------------- - 19.0/19.7 MB 4.9 MB/s eta 0:00:01\n",
      "     ---------------------------------------  19.3/19.7 MB 4.9 MB/s eta 0:00:01\n",
      "     ---------------------------------------  19.5/19.7 MB 4.9 MB/s eta 0:00:01\n",
      "     ---------------------------------------  19.7/19.7 MB 4.9 MB/s eta 0:00:01\n",
      "     ---------------------------------------- 19.7/19.7 MB 4.8 MB/s eta 0:00:00\n",
      "  Preparing metadata (setup.py): started\n",
      "  Preparing metadata (setup.py): finished with status 'done'\n",
      "Collecting pims>=0.3 (from pims_nd2)\n",
      "  Downloading pims-0.7.tar.gz (87 kB)\n",
      "     ---------------------------------------- 0.0/87.8 kB ? eta -:--:--\n",
      "     ---------------------------------------- 87.8/87.8 kB 4.8 MB/s eta 0:00:00\n",
      "  Preparing metadata (setup.py): started\n",
      "  Preparing metadata (setup.py): finished with status 'done'\n",
      "Requirement already satisfied: imageio in c:\\users\\ttami\\anaconda3\\lib\\site-packages (from pims>=0.3->pims_nd2) (2.33.1)\n",
      "Requirement already satisfied: numpy>=1.19 in c:\\users\\ttami\\anaconda3\\lib\\site-packages (from pims>=0.3->pims_nd2) (1.26.4)\n",
      "Requirement already satisfied: packaging in c:\\users\\ttami\\anaconda3\\lib\\site-packages (from pims>=0.3->pims_nd2) (23.1)\n",
      "Collecting slicerator>=0.9.8 (from pims>=0.3->pims_nd2)\n",
      "  Using cached slicerator-1.1.0-py3-none-any.whl.metadata (1.9 kB)\n",
      "Requirement already satisfied: tifffile in c:\\users\\ttami\\anaconda3\\lib\\site-packages (from pims>=0.3->pims_nd2) (2023.4.12)\n",
      "Requirement already satisfied: pillow>=8.3.2 in c:\\users\\ttami\\anaconda3\\lib\\site-packages (from imageio->pims>=0.3->pims_nd2) (10.2.0)\n",
      "Using cached slicerator-1.1.0-py3-none-any.whl (10 kB)\n",
      "Building wheels for collected packages: pims_nd2, pims\n",
      "  Building wheel for pims_nd2 (setup.py): started\n",
      "  Building wheel for pims_nd2 (setup.py): finished with status 'done'\n",
      "  Created wheel for pims_nd2: filename=pims_nd2-1.1-py3-none-any.whl size=19778398 sha256=aada8196a11588591a7cf13d51fd9d2295ea22b9595959bc1bf7cda5297f3124\n",
      "  Stored in directory: c:\\users\\ttami\\appdata\\local\\pip\\cache\\wheels\\21\\57\\1e\\9161c8d3cd2d53a52de6962547bce3edabae7f38e85035dd33\n",
      "  Building wheel for pims (setup.py): started\n",
      "  Building wheel for pims (setup.py): finished with status 'done'\n",
      "  Created wheel for pims: filename=PIMS-0.7-py3-none-any.whl size=85669 sha256=344987b54ada4af30c6eb315333f59d87aeb4b5c4d10285f0fa5dc7036d11dfb\n",
      "  Stored in directory: c:\\users\\ttami\\appdata\\local\\pip\\cache\\wheels\\19\\dc\\d2\\e872d34a5e460ff64d2f916938044498fc123855a68318b9d5\n",
      "Successfully built pims_nd2 pims\n",
      "Installing collected packages: slicerator, pims, pims_nd2\n",
      "Successfully installed pims-0.7 pims_nd2-1.1 slicerator-1.1.0\n",
      "Note: you may need to restart the kernel to use updated packages.\n"
     ]
    }
   ],
   "source": [
    "pip install pims_nd2"
   ]
  },
  {
   "cell_type": "code",
   "execution_count": 4,
   "id": "847ab6cf",
   "metadata": {},
   "outputs": [],
   "source": [
    "import imageio  # make sure to install imageio with mamba install imageio\n",
    "import pims_nd2\n",
    "import nd2_to_caiman\n",
    "import h5py\n",
    "import numpy as np"
   ]
  },
  {
   "cell_type": "code",
   "execution_count": 5,
   "id": "3ac717b3",
   "metadata": {},
   "outputs": [],
   "source": [
    "nd2_path = \"D:/sd_project_pbox/raw_data/OPI_2342/240318_baseline1/240318_OPI2342_baseline_1.nd2\"\n",
    "export_file = nd2_path[:-4] + \"_exp.tiff\""
   ]
  },
  {
   "cell_type": "markdown",
   "id": "ed1624b2",
   "metadata": {},
   "source": [
    "## Get data as np array"
   ]
  },
  {
   "cell_type": "code",
   "execution_count": 6,
   "id": "ab6643ff",
   "metadata": {},
   "outputs": [
    {
     "name": "stderr",
     "output_type": "stream",
     "text": [
      "c:\\Users\\ttami\\anaconda3\\Lib\\site-packages\\pims\\base_frames.py:478: UserWarning: Please call FramesSequenceND.__init__() at the start of thethe reader initialization.\n",
      "  warn(\"Please call FramesSequenceND.__init__() at the start of the\"\n"
     ]
    }
   ],
   "source": [
    "nd2_file = pims_nd2.ND2_Reader(nd2_path)\n",
    "\n",
    "# might need to save the metadata too\n",
    "nd2_metadata = nd2_file.metadata"
   ]
  },
  {
   "cell_type": "code",
   "execution_count": 7,
   "id": "e8c06980",
   "metadata": {},
   "outputs": [
    {
     "data": {
      "text/plain": [
       "(17978, 512, 512)"
      ]
     },
     "execution_count": 7,
     "metadata": {},
     "output_type": "execute_result"
    }
   ],
   "source": [
    "export_arr = nd2_to_caiman.np_arr_from_nd2(nd2_path)  # FIXME: reading out results in same frames\n",
    "export_arr.shape"
   ]
  },
  {
   "cell_type": "markdown",
   "id": "e766205b",
   "metadata": {},
   "source": [
    "# TIFF with imageio: probably not multi-page."
   ]
  },
  {
   "cell_type": "code",
   "execution_count": 8,
   "id": "36b7eeae",
   "metadata": {},
   "outputs": [
    {
     "ename": "error",
     "evalue": "argument out of range",
     "output_type": "error",
     "traceback": [
      "\u001b[1;31m---------------------------------------------------------------------------\u001b[0m",
      "\u001b[1;31merror\u001b[0m                                     Traceback (most recent call last)",
      "\u001b[1;32m~\\AppData\\Local\\Temp\\ipykernel_20656\\3924275643.py\u001b[0m in \u001b[0;36m?\u001b[1;34m()\u001b[0m\n\u001b[1;32m----> 1\u001b[1;33m \u001b[0mimageio\u001b[0m\u001b[1;33m.\u001b[0m\u001b[0mmimwrite\u001b[0m\u001b[1;33m(\u001b[0m\u001b[0mexport_file\u001b[0m\u001b[1;33m,\u001b[0m \u001b[0mexport_arr\u001b[0m\u001b[1;33m)\u001b[0m\u001b[1;33m\u001b[0m\u001b[1;33m\u001b[0m\u001b[0m\n\u001b[0m",
      "\u001b[1;32mc:\\Users\\ttami\\anaconda3\\Lib\\site-packages\\imageio\\v2.py\u001b[0m in \u001b[0;36m?\u001b[1;34m(uri, ims, format, **kwargs)\u001b[0m\n\u001b[0;32m    491\u001b[0m \u001b[1;33m\u001b[0m\u001b[0m\n\u001b[0;32m    492\u001b[0m     \u001b[0mimopen_args\u001b[0m \u001b[1;33m=\u001b[0m \u001b[0mdecypher_format_arg\u001b[0m\u001b[1;33m(\u001b[0m\u001b[0mformat\u001b[0m\u001b[1;33m)\u001b[0m\u001b[1;33m\u001b[0m\u001b[1;33m\u001b[0m\u001b[0m\n\u001b[0;32m    493\u001b[0m     \u001b[0mimopen_args\u001b[0m\u001b[1;33m[\u001b[0m\u001b[1;34m\"legacy_mode\"\u001b[0m\u001b[1;33m]\u001b[0m \u001b[1;33m=\u001b[0m \u001b[1;32mTrue\u001b[0m\u001b[1;33m\u001b[0m\u001b[1;33m\u001b[0m\u001b[0m\n\u001b[0;32m    494\u001b[0m     \u001b[1;32mwith\u001b[0m \u001b[0mimopen\u001b[0m\u001b[1;33m(\u001b[0m\u001b[0muri\u001b[0m\u001b[1;33m,\u001b[0m \u001b[1;34m\"wI\"\u001b[0m\u001b[1;33m,\u001b[0m \u001b[1;33m**\u001b[0m\u001b[0mimopen_args\u001b[0m\u001b[1;33m)\u001b[0m \u001b[1;32mas\u001b[0m \u001b[0mfile\u001b[0m\u001b[1;33m:\u001b[0m\u001b[1;33m\u001b[0m\u001b[1;33m\u001b[0m\u001b[0m\n\u001b[1;32m--> 495\u001b[1;33m         \u001b[1;32mreturn\u001b[0m \u001b[0mfile\u001b[0m\u001b[1;33m.\u001b[0m\u001b[0mwrite\u001b[0m\u001b[1;33m(\u001b[0m\u001b[0mims\u001b[0m\u001b[1;33m,\u001b[0m \u001b[0mis_batch\u001b[0m\u001b[1;33m=\u001b[0m\u001b[1;32mTrue\u001b[0m\u001b[1;33m,\u001b[0m \u001b[1;33m**\u001b[0m\u001b[0mkwargs\u001b[0m\u001b[1;33m)\u001b[0m\u001b[1;33m\u001b[0m\u001b[1;33m\u001b[0m\u001b[0m\n\u001b[0m",
      "\u001b[1;32mc:\\Users\\ttami\\anaconda3\\Lib\\site-packages\\imageio\\plugins\\tifffile_v3.py\u001b[0m in \u001b[0;36m?\u001b[1;34m(self, ndimage, is_batch, **kwargs)\u001b[0m\n\u001b[0;32m    220\u001b[0m         \u001b[1;32mif\u001b[0m \u001b[1;32mnot\u001b[0m \u001b[0mis_batch\u001b[0m\u001b[1;33m:\u001b[0m\u001b[1;33m\u001b[0m\u001b[1;33m\u001b[0m\u001b[0m\n\u001b[0;32m    221\u001b[0m             \u001b[0mndimage\u001b[0m \u001b[1;33m=\u001b[0m \u001b[0mnp\u001b[0m\u001b[1;33m.\u001b[0m\u001b[0masarray\u001b[0m\u001b[1;33m(\u001b[0m\u001b[0mndimage\u001b[0m\u001b[1;33m)\u001b[0m\u001b[1;33m[\u001b[0m\u001b[1;32mNone\u001b[0m\u001b[1;33m,\u001b[0m \u001b[1;33m:\u001b[0m\u001b[1;33m]\u001b[0m\u001b[1;33m\u001b[0m\u001b[1;33m\u001b[0m\u001b[0m\n\u001b[0;32m    222\u001b[0m \u001b[1;33m\u001b[0m\u001b[0m\n\u001b[0;32m    223\u001b[0m         \u001b[1;32mfor\u001b[0m \u001b[0mimage\u001b[0m \u001b[1;32min\u001b[0m \u001b[0mndimage\u001b[0m\u001b[1;33m:\u001b[0m\u001b[1;33m\u001b[0m\u001b[1;33m\u001b[0m\u001b[0m\n\u001b[1;32m--> 224\u001b[1;33m             \u001b[0mself\u001b[0m\u001b[1;33m.\u001b[0m\u001b[0m_fh\u001b[0m\u001b[1;33m.\u001b[0m\u001b[0mwrite\u001b[0m\u001b[1;33m(\u001b[0m\u001b[0mimage\u001b[0m\u001b[1;33m,\u001b[0m \u001b[1;33m**\u001b[0m\u001b[0mkwargs\u001b[0m\u001b[1;33m)\u001b[0m\u001b[1;33m\u001b[0m\u001b[1;33m\u001b[0m\u001b[0m\n\u001b[0m\u001b[0;32m    225\u001b[0m \u001b[1;33m\u001b[0m\u001b[0m\n\u001b[0;32m    226\u001b[0m         \u001b[1;32mif\u001b[0m \u001b[0mself\u001b[0m\u001b[1;33m.\u001b[0m\u001b[0m_request\u001b[0m\u001b[1;33m.\u001b[0m\u001b[0m_uri_type\u001b[0m \u001b[1;33m==\u001b[0m \u001b[0mURI_BYTES\u001b[0m\u001b[1;33m:\u001b[0m\u001b[1;33m\u001b[0m\u001b[1;33m\u001b[0m\u001b[0m\n\u001b[0;32m    227\u001b[0m             \u001b[0mself\u001b[0m\u001b[1;33m.\u001b[0m\u001b[0m_fh\u001b[0m\u001b[1;33m.\u001b[0m\u001b[0mclose\u001b[0m\u001b[1;33m(\u001b[0m\u001b[1;33m)\u001b[0m\u001b[1;33m\u001b[0m\u001b[1;33m\u001b[0m\u001b[0m\n",
      "\u001b[1;32mc:\\Users\\ttami\\anaconda3\\Lib\\site-packages\\tifffile\\tifffile.py\u001b[0m in \u001b[0;36m?\u001b[1;34m(***failed resolving arguments***)\u001b[0m\n\u001b[0;32m   3132\u001b[0m \u001b[1;33m\u001b[0m\u001b[0m\n\u001b[0;32m   3133\u001b[0m             \u001b[1;32mif\u001b[0m \u001b[0mself\u001b[0m\u001b[1;33m.\u001b[0m\u001b[0m_subifdslevel\u001b[0m \u001b[1;33m<\u001b[0m \u001b[1;36m0\u001b[0m\u001b[1;33m:\u001b[0m\u001b[1;33m\u001b[0m\u001b[1;33m\u001b[0m\u001b[0m\n\u001b[0;32m   3134\u001b[0m                 \u001b[1;31m# update pointer at ifdoffset\u001b[0m\u001b[1;33m\u001b[0m\u001b[1;33m\u001b[0m\u001b[0m\n\u001b[0;32m   3135\u001b[0m                 \u001b[0mfh\u001b[0m\u001b[1;33m.\u001b[0m\u001b[0mseek\u001b[0m\u001b[1;33m(\u001b[0m\u001b[0mself\u001b[0m\u001b[1;33m.\u001b[0m\u001b[0m_ifdoffset\u001b[0m\u001b[1;33m)\u001b[0m\u001b[1;33m\u001b[0m\u001b[1;33m\u001b[0m\u001b[0m\n\u001b[1;32m-> 3136\u001b[1;33m                 \u001b[0mfh\u001b[0m\u001b[1;33m.\u001b[0m\u001b[0mwrite\u001b[0m\u001b[1;33m(\u001b[0m\u001b[0mpack\u001b[0m\u001b[1;33m(\u001b[0m\u001b[0moffsetformat\u001b[0m\u001b[1;33m,\u001b[0m \u001b[0mifdpos\u001b[0m\u001b[1;33m)\u001b[0m\u001b[1;33m)\u001b[0m\u001b[1;33m\u001b[0m\u001b[1;33m\u001b[0m\u001b[0m\n\u001b[0m\u001b[0;32m   3137\u001b[0m \u001b[1;33m\u001b[0m\u001b[0m\n\u001b[0;32m   3138\u001b[0m             \u001b[0mfh\u001b[0m\u001b[1;33m.\u001b[0m\u001b[0mseek\u001b[0m\u001b[1;33m(\u001b[0m\u001b[0mifdpos\u001b[0m\u001b[1;33m)\u001b[0m\u001b[1;33m\u001b[0m\u001b[1;33m\u001b[0m\u001b[0m\n\u001b[0;32m   3139\u001b[0m \u001b[1;33m\u001b[0m\u001b[0m\n",
      "\u001b[1;32mc:\\Users\\ttami\\anaconda3\\Lib\\site-packages\\tifffile\\tifffile.py\u001b[0m in \u001b[0;36m?\u001b[1;34m(self, fmt, *val)\u001b[0m\n\u001b[0;32m   3810\u001b[0m     \u001b[1;32mdef\u001b[0m \u001b[0m_pack\u001b[0m\u001b[1;33m(\u001b[0m\u001b[0mself\u001b[0m\u001b[1;33m,\u001b[0m \u001b[0mfmt\u001b[0m\u001b[1;33m:\u001b[0m \u001b[0mstr\u001b[0m\u001b[1;33m,\u001b[0m \u001b[1;33m*\u001b[0m\u001b[0mval\u001b[0m\u001b[1;33m:\u001b[0m \u001b[0mAny\u001b[0m\u001b[1;33m)\u001b[0m \u001b[1;33m->\u001b[0m \u001b[0mbytes\u001b[0m\u001b[1;33m:\u001b[0m\u001b[1;33m\u001b[0m\u001b[1;33m\u001b[0m\u001b[0m\n\u001b[0;32m   3811\u001b[0m         \u001b[1;34m\"\"\"Return values packed to bytes according to format.\"\"\"\u001b[0m\u001b[1;33m\u001b[0m\u001b[1;33m\u001b[0m\u001b[0m\n\u001b[0;32m   3812\u001b[0m         \u001b[1;32mif\u001b[0m \u001b[0mfmt\u001b[0m\u001b[1;33m[\u001b[0m\u001b[1;36m0\u001b[0m\u001b[1;33m]\u001b[0m \u001b[1;32mnot\u001b[0m \u001b[1;32min\u001b[0m \u001b[1;34m'<>'\u001b[0m\u001b[1;33m:\u001b[0m\u001b[1;33m\u001b[0m\u001b[1;33m\u001b[0m\u001b[0m\n\u001b[0;32m   3813\u001b[0m             \u001b[0mfmt\u001b[0m \u001b[1;33m=\u001b[0m \u001b[0mself\u001b[0m\u001b[1;33m.\u001b[0m\u001b[0mtiff\u001b[0m\u001b[1;33m.\u001b[0m\u001b[0mbyteorder\u001b[0m \u001b[1;33m+\u001b[0m \u001b[0mfmt\u001b[0m\u001b[1;33m\u001b[0m\u001b[1;33m\u001b[0m\u001b[0m\n\u001b[1;32m-> 3814\u001b[1;33m         \u001b[1;32mreturn\u001b[0m \u001b[0mstruct\u001b[0m\u001b[1;33m.\u001b[0m\u001b[0mpack\u001b[0m\u001b[1;33m(\u001b[0m\u001b[0mfmt\u001b[0m\u001b[1;33m,\u001b[0m \u001b[1;33m*\u001b[0m\u001b[0mval\u001b[0m\u001b[1;33m)\u001b[0m\u001b[1;33m\u001b[0m\u001b[1;33m\u001b[0m\u001b[0m\n\u001b[0m",
      "\u001b[1;31merror\u001b[0m: argument out of range"
     ]
    }
   ],
   "source": [
    "imageio.mimwrite(export_file, export_arr)"
   ]
  },
  {
   "cell_type": "code",
   "execution_count": 9,
   "id": "a26e4f86",
   "metadata": {},
   "outputs": [
    {
     "data": {
      "text/plain": [
       "array([[ True,  True, False, ...,  True,  True,  True],\n",
       "       [ True, False, False, ...,  True, False,  True],\n",
       "       [False, False, False, ..., False, False, False],\n",
       "       ...,\n",
       "       [False, False, False, ..., False, False, False],\n",
       "       [False, False, False, ..., False,  True, False],\n",
       "       [False, False, False, ..., False, False, False]])"
      ]
     },
     "execution_count": 9,
     "metadata": {},
     "output_type": "execute_result"
    }
   ],
   "source": [
    "# check if images are same\n",
    "export_arr[0] == export_arr[100]"
   ]
  },
  {
   "cell_type": "markdown",
   "id": "31166f63",
   "metadata": {},
   "source": [
    "# HDF5 with h5py"
   ]
  },
  {
   "cell_type": "code",
   "execution_count": 10,
   "id": "747b6a9a",
   "metadata": {},
   "outputs": [
    {
     "name": "stdout",
     "output_type": "stream",
     "text": [
      "D:/sd_project_pbox/raw_data/OPI_2342/240318_baseline1/240318_OPI2342_baseline_1_exp.h5\n"
     ]
    }
   ],
   "source": [
    "h5_file = export_file[:-5] + \".h5\"\n",
    "print(h5_file)"
   ]
  },
  {
   "cell_type": "code",
   "execution_count": 11,
   "id": "1c7015c4",
   "metadata": {},
   "outputs": [],
   "source": [
    "dataset_name = \"mov\"  # an annoying bug in CaImAn... passing 'var_name_hdf5': 'data' \n",
    "                      # to CNMFParams does not work. Stick to default name for now\n",
    "with h5py.File(h5_file, 'w') as hf:\n",
    "    dataset = hf.create_dataset(\"mov\", shape=export_arr.shape, dtype=np.uint16)\n",
    "    for i_frame in range(export_arr.shape[0]):\n",
    "        dataset[i_frame] = export_arr[i_frame]"
   ]
  },
  {
   "cell_type": "code",
   "execution_count": 12,
   "id": "e9e73c5e",
   "metadata": {},
   "outputs": [
    {
     "data": {
      "text/plain": [
       "17978"
      ]
     },
     "execution_count": 12,
     "metadata": {},
     "output_type": "execute_result"
    }
   ],
   "source": [
    "export_arr.shape[0]"
   ]
  },
  {
   "cell_type": "code",
   "execution_count": 13,
   "id": "0ac8e29a",
   "metadata": {},
   "outputs": [
    {
     "data": {
      "text/plain": [
       "array([[ 0,  0,  0, ...,  0,  0,  0],\n",
       "       [ 0,  0,  0, ...,  0,  0,  0],\n",
       "       [ 0,  0,  0, ...,  0,  0,  0],\n",
       "       ...,\n",
       "       [11, 15, 12, ..., 24, 17, 26],\n",
       "       [34, 19, 22, ..., 25, 20, 28],\n",
       "       [ 8, 18, 21, ..., 16,  6, 13]], dtype=uint16)"
      ]
     },
     "execution_count": 13,
     "metadata": {},
     "output_type": "execute_result"
    }
   ],
   "source": [
    "export_arr[0]"
   ]
  },
  {
   "cell_type": "code",
   "execution_count": 14,
   "id": "1d696b57",
   "metadata": {},
   "outputs": [],
   "source": [
    "f = h5py.File(h5_file, \"r\")"
   ]
  },
  {
   "cell_type": "code",
   "execution_count": 15,
   "id": "2df5959d",
   "metadata": {},
   "outputs": [],
   "source": [
    "f.get(\"data\")"
   ]
  },
  {
   "cell_type": "code",
   "execution_count": null,
   "id": "e42d31fc",
   "metadata": {},
   "outputs": [],
   "source": []
  }
 ],
 "metadata": {
  "kernelspec": {
   "display_name": "Python 3 (ipykernel)",
   "language": "python",
   "name": "python3"
  },
  "language_info": {
   "codemirror_mode": {
    "name": "ipython",
    "version": 3
   },
   "file_extension": ".py",
   "mimetype": "text/x-python",
   "name": "python",
   "nbconvert_exporter": "python",
   "pygments_lexer": "ipython3",
   "version": "3.11.7"
  }
 },
 "nbformat": 4,
 "nbformat_minor": 5
}
